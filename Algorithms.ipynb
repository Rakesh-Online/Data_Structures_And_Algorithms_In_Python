{
  "nbformat": 4,
  "nbformat_minor": 0,
  "metadata": {
    "colab": {
      "name": "Algorithms.ipynb",
      "provenance": [],
      "authorship_tag": "ABX9TyPVJSur6fLl3kEzIxOwQiWd",
      "include_colab_link": true
    },
    "kernelspec": {
      "name": "python3",
      "display_name": "Python 3"
    },
    "language_info": {
      "name": "python"
    }
  },
  "cells": [
    {
      "cell_type": "markdown",
      "metadata": {
        "id": "view-in-github",
        "colab_type": "text"
      },
      "source": [
        "<a href=\"https://colab.research.google.com/github/Rakesh-Online/Data_Structures_And_Algorithms_In_Python/blob/main/Algorithms.ipynb\" target=\"_parent\"><img src=\"https://colab.research.google.com/assets/colab-badge.svg\" alt=\"Open In Colab\"/></a>"
      ]
    },
    {
      "cell_type": "code",
      "metadata": {
        "id": "tKlyRaIUQoaC"
      },
      "source": [
        "#Linear search"
      ],
      "execution_count": null,
      "outputs": []
    },
    {
      "cell_type": "code",
      "metadata": {
        "id": "Btv6ta-5Qtcl"
      },
      "source": [
        "def linear_search(list1, n):\n",
        "    pos = -1\n",
        "    for i in range(len(list1)):\n",
        "        if n == list1[i]:\n",
        "            pos = i\n",
        "            print(\"found at\", pos)\n",
        "            break\n",
        "    else:\n",
        "        print(\"not found\")"
      ],
      "execution_count": 14,
      "outputs": []
    },
    {
      "cell_type": "code",
      "metadata": {
        "colab": {
          "base_uri": "https://localhost:8080/"
        },
        "id": "ys5zW0Z5RAdw",
        "outputId": "991233ce-363b-4146-c9f4-678365b03330"
      },
      "source": [
        "n = 6\n",
        "l = [2,3,4,5,6,7,8,9]\n",
        "linear_search(l,n)"
      ],
      "execution_count": 16,
      "outputs": [
        {
          "output_type": "stream",
          "text": [
            "found at 4\n"
          ],
          "name": "stdout"
        }
      ]
    },
    {
      "cell_type": "code",
      "metadata": {
        "id": "KS1UZMjESvzI"
      },
      "source": [
        ""
      ],
      "execution_count": null,
      "outputs": []
    }
  ]
}