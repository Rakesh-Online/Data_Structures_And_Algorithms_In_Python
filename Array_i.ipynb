{
 "cells": [
  {
   "cell_type": "markdown",
   "id": "1d901434",
   "metadata": {},
   "source": [
    "# Sorting"
   ]
  },
  {
   "cell_type": "markdown",
   "id": "21d11852",
   "metadata": {},
   "source": [
    "## selection sort\n",
    "- time complexity is O(n^2) because we are using two for loops \n",
    "- for each pass only one swap is required "
   ]
  },
  {
   "cell_type": "code",
   "execution_count": 1,
   "id": "08621272",
   "metadata": {},
   "outputs": [],
   "source": [
    "def SelectionSort(arr):\n",
    "    #it like a pointer in beginnig of the array\n",
    "    for i in range(len(arr)):\n",
    "        #we assume the first one is the minmum index\n",
    "        min_index = i\n",
    "        #below is the j pointer starts from the next index\n",
    "        for j in range(i+1, len(arr)):\n",
    "            #it compares the 0 and 1 index so on and so forth and save the the min_index \n",
    "            if arr[min_index]>arr[j]:\n",
    "                min_index = j\n",
    "        # this will help us to swap the value \n",
    "        arr[i], arr[min_index] = arr[min_index], arr[i]\n",
    "    return arr\n",
    "        \n",
    "\n",
    "            "
   ]
  },
  {
   "cell_type": "code",
   "execution_count": 2,
   "id": "ec092222",
   "metadata": {},
   "outputs": [
    {
     "name": "stdout",
     "output_type": "stream",
     "text": [
      "[9, 10, 12, 17, 32, 35]\n"
     ]
    }
   ],
   "source": [
    "#Driver code\n",
    "array= [12,32, 35, 17,9,10]\n",
    "\n",
    "result = SelectionSort(array)\n",
    "print(result)"
   ]
  },
  {
   "cell_type": "markdown",
   "id": "de58904d",
   "metadata": {},
   "source": [
    "## Bubble sort\n",
    "- Time Complexity is O(n^2) because we are using two for loops \n",
    "- space complexity is O(1)"
   ]
  },
  {
   "cell_type": "code",
   "execution_count": 3,
   "id": "59947e79",
   "metadata": {},
   "outputs": [],
   "source": [
    "def BubbleSort(array):\n",
    "    n = len(array)\n",
    "    for i in range(n-1):\n",
    "        for j in range(n- i - 1):\n",
    "            if array[j] > array[j+1]:\n",
    "                array[j], array[ j+1] = array[ j+1], array[j]\n",
    "    return array"
   ]
  },
  {
   "cell_type": "code",
   "execution_count": 4,
   "id": "af7d9eeb",
   "metadata": {},
   "outputs": [
    {
     "name": "stdout",
     "output_type": "stream",
     "text": [
      "[9, 10, 12, 17, 32, 35]\n"
     ]
    }
   ],
   "source": [
    "array= [12,32, 35, 17,9,10]\n",
    "result = BubbleSort(array)\n",
    "print(result)"
   ]
  },
  {
   "cell_type": "code",
   "execution_count": null,
   "id": "f4ee6828",
   "metadata": {},
   "outputs": [],
   "source": []
  }
 ],
 "metadata": {
  "kernelspec": {
   "display_name": "Python 3.8.8 ('base')",
   "language": "python",
   "name": "python3"
  },
  "language_info": {
   "codemirror_mode": {
    "name": "ipython",
    "version": 3
   },
   "file_extension": ".py",
   "mimetype": "text/x-python",
   "name": "python",
   "nbconvert_exporter": "python",
   "pygments_lexer": "ipython3",
   "version": "3.8.8"
  },
  "toc": {
   "base_numbering": 1,
   "nav_menu": {},
   "number_sections": true,
   "sideBar": true,
   "skip_h1_title": false,
   "title_cell": "Table of Contents",
   "title_sidebar": "Contents",
   "toc_cell": false,
   "toc_position": {},
   "toc_section_display": true,
   "toc_window_display": true
  },
  "vscode": {
   "interpreter": {
    "hash": "6854ea8ff5a79f7e4718b9fbdf74d22809e414484d0c695c5bccf0455375b9ad"
   }
  }
 },
 "nbformat": 4,
 "nbformat_minor": 5
}
