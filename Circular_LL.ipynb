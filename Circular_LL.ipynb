{
 "cells": [
  {
   "cell_type": "code",
   "execution_count": 48,
   "source": [
    "class node:\r\n",
    "    def __init__(self,data):\r\n",
    "        self.data = data \r\n",
    "        self.next = None\r\n",
    "\r\n",
    "class CircularLinkedList:\r\n",
    "    def __init__(self):\r\n",
    "        self.head = None\r\n",
    "\r\n",
    "    \r\n",
    "    def print_CLL(self):\r\n",
    "        n = self.head\r\n",
    "        if n is not None:\r\n",
    "            while (True):\r\n",
    "                print(n.data)\r\n",
    "                n = n.next\r\n",
    "                if (n == self.head):\r\n",
    "                    break\r\n",
    "        else:\r\n",
    "           print(\"CLL is empty\")\r\n",
    "\r\n",
    "    \r\n",
    "    def add_begin(self, data):\r\n",
    "        new_node = node(data)\r\n",
    "        n = self.head\r\n",
    "        new_node.next = self.head\r\n",
    "        if self.head is not None:\r\n",
    "            while (n.next !=  self.head):\r\n",
    "                n = n.next\r\n",
    "            n.next = new_node\r\n",
    "        else:\r\n",
    "            new_node.next = new_node\r\n",
    "        self.head = new_node\r\n",
    "\r\n",
    "    def add_end(self, data):\r\n",
    "        if self.head.data is None:\r\n",
    "            print(\"CLL is empty\")\r\n",
    "        else:\r\n",
    "            new_node = node(data)\r\n",
    "            n = self.head\r\n",
    "            while (n.next !=  self.head):\r\n",
    "                n = n.next\r\n",
    "            n.next = new_node\r\n",
    "            new_node.next = self.head\r\n",
    "\r\n",
    "    def add_after(self,data, x):\r\n",
    "        n = self.head\r\n",
    "        while n is not None:\r\n",
    "            if x==n.data:\r\n",
    "                break\r\n",
    "            n = n.next\r\n",
    "        if n is None:\r\n",
    "            print(\"Node is not present\")\r\n",
    "        else:\r\n",
    "            new_node = node(data)\r\n",
    "            new_node.next = n.next \r\n",
    "            n.next = new_node\r\n",
    "\r\n",
    "\r\n"
   ],
   "outputs": [],
   "metadata": {}
  },
  {
   "cell_type": "code",
   "execution_count": 49,
   "source": [
    "ob = CircularLinkedList()\r\n",
    "ob.add_begin(10)\r\n",
    "ob.add_end(20)\r\n",
    "ob.add_after(30,20)\r\n",
    "ob.print_CLL()\r\n"
   ],
   "outputs": [
    {
     "output_type": "stream",
     "name": "stdout",
     "text": [
      "10\n",
      "20\n",
      "30\n"
     ]
    }
   ],
   "metadata": {}
  }
 ],
 "metadata": {
  "orig_nbformat": 4,
  "language_info": {
   "name": "python",
   "version": "3.8.8",
   "mimetype": "text/x-python",
   "codemirror_mode": {
    "name": "ipython",
    "version": 3
   },
   "pygments_lexer": "ipython3",
   "nbconvert_exporter": "python",
   "file_extension": ".py"
  },
  "kernelspec": {
   "name": "python3",
   "display_name": "Python 3.8.8 64-bit ('base': conda)"
  },
  "interpreter": {
   "hash": "e6fe5ac2d2d94b2b7d07520931cd75585921d73cc0f7f23978acb160c57774b1"
  }
 },
 "nbformat": 4,
 "nbformat_minor": 2
}