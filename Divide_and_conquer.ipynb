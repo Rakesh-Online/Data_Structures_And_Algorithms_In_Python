{
 "cells": [
  {
   "cell_type": "markdown",
   "id": "fe10af73",
   "metadata": {},
   "source": [
    "# Finding the power of an element"
   ]
  },
  {
   "cell_type": "code",
   "execution_count": 1,
   "id": "9b182e33",
   "metadata": {},
   "outputs": [],
   "source": [
    "\n",
    "##major constraints is n>=1 and a >=2 \n",
    "## masters theorem T(n) = O(log n)\n",
    "def Dac_power(a,n):\n",
    "    # small problem\n",
    "    #below will give result for base power which is 1 \n",
    "    if n == 1:\n",
    "        return a \n",
    "    else:\n",
    "        # Big problem\n",
    "        # below we are dividing the power by half\n",
    "        mid = n//2 #o(1)\n",
    "        # this is the recursive call\n",
    "        b = Dac_power(a,mid)# o(n/2)\n",
    "        c = b*b\n",
    "        # this below step is used to check weather the power is even or odd\n",
    "        if n%2 == 0:\n",
    "            return c \n",
    "        else:\n",
    "            return c *a "
   ]
  },
  {
   "cell_type": "code",
   "execution_count": 7,
   "id": "8520b75a",
   "metadata": {},
   "outputs": [
    {
     "data": {
      "text/plain": [
       "256"
      ]
     },
     "execution_count": 7,
     "metadata": {},
     "output_type": "execute_result"
    }
   ],
   "source": [
    "Dac_power(2,8)"
   ]
  },
  {
   "cell_type": "code",
   "execution_count": null,
   "id": "2681f9ff",
   "metadata": {},
   "outputs": [],
   "source": []
  }
 ],
 "metadata": {
  "kernelspec": {
   "display_name": "Python 3 (ipykernel)",
   "language": "python",
   "name": "python3"
  },
  "language_info": {
   "codemirror_mode": {
    "name": "ipython",
    "version": 3
   },
   "file_extension": ".py",
   "mimetype": "text/x-python",
   "name": "python",
   "nbconvert_exporter": "python",
   "pygments_lexer": "ipython3",
   "version": "3.8.8"
  },
  "toc": {
   "base_numbering": 1,
   "nav_menu": {},
   "number_sections": true,
   "sideBar": true,
   "skip_h1_title": false,
   "title_cell": "Table of Contents",
   "title_sidebar": "Contents",
   "toc_cell": false,
   "toc_position": {},
   "toc_section_display": true,
   "toc_window_display": false
  }
 },
 "nbformat": 4,
 "nbformat_minor": 5
}
