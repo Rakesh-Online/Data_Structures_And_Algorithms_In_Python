{
  "nbformat": 4,
  "nbformat_minor": 0,
  "metadata": {
    "colab": {
      "name": "Linked_List.ipynb",
      "provenance": [],
      "authorship_tag": "ABX9TyMedxw+CXBtyG5Ssu3zWk/8",
      "include_colab_link": true
    },
    "kernelspec": {
      "name": "python3",
      "display_name": "Python 3"
    },
    "language_info": {
      "name": "python"
    }
  },
  "cells": [
    {
      "cell_type": "markdown",
      "metadata": {
        "id": "view-in-github",
        "colab_type": "text"
      },
      "source": [
        "<a href=\"https://colab.research.google.com/github/Rakesh-Online/Data_Structures_Python/blob/main/Linked_List.ipynb\" target=\"_parent\"><img src=\"https://colab.research.google.com/assets/colab-badge.svg\" alt=\"Open In Colab\"/></a>"
      ]
    },
    {
      "cell_type": "code",
      "metadata": {
        "id": "k24bkbfn279E"
      },
      "source": [
        "#Traversing a Linked List"
      ],
      "execution_count": null,
      "outputs": []
    },
    {
      "cell_type": "code",
      "metadata": {
        "id": "I3EyTt43wV1-"
      },
      "source": [
        "class node:\n",
        "  def __init__(self,data):\n",
        "    self.data = data\n",
        "    self.ref = None\n",
        "  \n",
        "class LinkedList:\n",
        "  def __init__(self):\n",
        "    self.head = None\n",
        "\n",
        "  def print_LL(self):\n",
        "    if self.head is None:\n",
        "      print(\"Linked List Is Empty\")\n",
        "    else:\n",
        "      n = self.head\n",
        "      while n is not None:\n",
        "        print(n.data)\n",
        "        n = n.ref\n"
      ],
      "execution_count": 1,
      "outputs": []
    },
    {
      "cell_type": "code",
      "metadata": {
        "colab": {
          "base_uri": "https://localhost:8080/"
        },
        "id": "HAD5aufm2Z36",
        "outputId": "a42b39aa-a274-4ae3-c8e6-be58fccb9e1e"
      },
      "source": [
        "obj = LinkedList()\n",
        "obj.head = node(\"10\")\n",
        "obj1 = node(\"20\")\n",
        "obj2 = node(\"30\")\n",
        "\n",
        "obj.head.ref = obj1\n",
        "\n",
        "obj1.ref= obj2\n",
        "\n",
        "obj.print_LL()"
      ],
      "execution_count": 7,
      "outputs": [
        {
          "output_type": "stream",
          "text": [
            "10\n",
            "20\n",
            "30\n"
          ],
          "name": "stdout"
        }
      ]
    },
    {
      "cell_type": "code",
      "metadata": {
        "id": "ykYyaOKLG0vz"
      },
      "source": [
        "#insert element at begining of Linked List"
      ],
      "execution_count": null,
      "outputs": []
    },
    {
      "cell_type": "code",
      "metadata": {
        "id": "D5kGwo4k2mTr"
      },
      "source": [
        "class node:\n",
        "  def __init__(self,data):\n",
        "    self.data = data\n",
        "    self.ref = None\n",
        "  \n",
        "class LinkedList:\n",
        "  def __init__(self):\n",
        "    self.head = None\n",
        "\n",
        "  def print_LL(self):\n",
        "    if self.head is None:\n",
        "      print(\"Linked List Is Empty\")\n",
        "    else:\n",
        "      n = self.head\n",
        "      while n is not None:\n",
        "        print(n.data)\n",
        "        n = n.ref\n",
        "\n",
        "  def add_begin(self, data):\n",
        "    new_node = node(data)\n",
        "    new_node.ref = self.head\n",
        "    self.head = new_node"
      ],
      "execution_count": 1,
      "outputs": []
    },
    {
      "cell_type": "code",
      "metadata": {
        "colab": {
          "base_uri": "https://localhost:8080/"
        },
        "id": "xyPI0yC5HXEn",
        "outputId": "75a87584-bd22-49cb-bab1-a92f1dac680f"
      },
      "source": [
        "obj = LinkedList()\n",
        "obj.add_begin(10)\n",
        "obj.add_begin(20)\n",
        "obj.add_begin(30)\n",
        "obj.print_LL()"
      ],
      "execution_count": 4,
      "outputs": [
        {
          "output_type": "stream",
          "text": [
            "30\n",
            "20\n",
            "10\n"
          ],
          "name": "stdout"
        }
      ]
    },
    {
      "cell_type": "code",
      "metadata": {
        "id": "YRalPGsZMHmj"
      },
      "source": [
        "# Add and element at end of Linked List"
      ],
      "execution_count": null,
      "outputs": []
    },
    {
      "cell_type": "code",
      "metadata": {
        "id": "Oi5bzaZ7HmQW"
      },
      "source": [
        "class node:\n",
        "  def __init__(self,data):\n",
        "    self.data =  data\n",
        "    self.ref = None\n",
        "  \n",
        "class LinkedList:\n",
        "  def __init__(self):\n",
        "    self.head = None\n",
        "\n",
        "  def print_LL(self):\n",
        "    if self.head is None:\n",
        "      print(\"Linked List is empty\")\n",
        "    else:\n",
        "      n = self.head\n",
        "      while n is not None:\n",
        "        print(n.data)\n",
        "        n = n.ref\n",
        "  def add_begin(self,data):\n",
        "    new_node = node(data)\n",
        "    new_node.ref = self.head\n",
        "    self.head = new_node\n",
        "\n",
        "  def add_end(self,data):\n",
        "    new_node =node(data)\n",
        "    if self.head is None:\n",
        "      print(\"LinkedList is empty\")\n",
        "    else:\n",
        "      n = self.head\n",
        "      while n.ref is not None:\n",
        "        n = n.ref\n",
        "      n.ref = new_node"
      ],
      "execution_count": 12,
      "outputs": []
    },
    {
      "cell_type": "code",
      "metadata": {
        "colab": {
          "base_uri": "https://localhost:8080/"
        },
        "id": "wFpnrfoNLUjS",
        "outputId": "3d575d85-1763-4e7d-d9e0-af3632dedea4"
      },
      "source": [
        "a = LinkedList()\n",
        "a.add_begin(10)\n",
        "a.add_end(100)\n",
        "a.print_LL()"
      ],
      "execution_count": 13,
      "outputs": [
        {
          "output_type": "stream",
          "text": [
            "10\n",
            "100\n"
          ],
          "name": "stdout"
        }
      ]
    },
    {
      "cell_type": "code",
      "metadata": {
        "id": "Rk6AjB9fLd7v"
      },
      "source": [
        ""
      ],
      "execution_count": null,
      "outputs": []
    }
  ]
}