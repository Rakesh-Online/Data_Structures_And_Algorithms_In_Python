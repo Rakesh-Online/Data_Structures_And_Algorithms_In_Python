{
  "nbformat": 4,
  "nbformat_minor": 2,
  "metadata": {
    "colab": {
      "name": "Linked_List.ipynb",
      "provenance": [],
      "authorship_tag": "ABX9TyP93yqnsjM/bGJQRvSCp1RS",
      "include_colab_link": true
    },
    "kernelspec": {
      "name": "python3",
      "display_name": "Python 3"
    },
    "language_info": {
      "name": "python"
    }
  },
  "cells": [
    {
      "cell_type": "markdown",
      "source": [
        "<a href=\"https://colab.research.google.com/github/Rakesh-Online/Data_Structures_Python/blob/main/Linked_List.ipynb\" target=\"_parent\"><img src=\"https://colab.research.google.com/assets/colab-badge.svg\" alt=\"Open In Colab\"/></a>"
      ],
      "metadata": {
        "id": "view-in-github",
        "colab_type": "text"
      }
    },
    {
      "cell_type": "code",
      "execution_count": null,
      "source": [
        "#Traversing a Linked List"
      ],
      "outputs": [],
      "metadata": {
        "id": "k24bkbfn279E"
      }
    },
    {
      "cell_type": "code",
      "execution_count": null,
      "source": [
        "# Node class\r\n",
        "class node:\r\n",
        "  # Function to initialize the node object\r\n",
        "  def __init__(self,data):\r\n",
        "    self.data = data\r\n",
        "    self.ref = None\r\n",
        "\r\n",
        "# Linked List class  \r\n",
        "class LinkedList:\r\n",
        "  def __init__(self):\r\n",
        "    self.head = None\r\n",
        "\r\n",
        "  #This function traverse contents of linked list\r\n",
        "  def print_LL(self):\r\n",
        "    if self.head is None:\r\n",
        "      print(\"Linked List Is Empty\")\r\n",
        "    else:\r\n",
        "      n = self.head\r\n",
        "      while n is not None:\r\n",
        "        print(n.data)\r\n",
        "        n = n.ref\r\n"
      ],
      "outputs": [],
      "metadata": {
        "id": "I3EyTt43wV1-"
      }
    },
    {
      "cell_type": "code",
      "execution_count": null,
      "source": [
        "obj = LinkedList()\r\n",
        "obj.head = node(\"10\")\r\n",
        "obj1 = node(\"20\")\r\n",
        "obj2 = node(\"30\")\r\n",
        "\r\n",
        "obj.head.ref = obj1\r\n",
        "\r\n",
        "obj1.ref= obj2\r\n",
        "\r\n",
        "obj.print_LL()"
      ],
      "outputs": [
        {
          "output_type": "stream",
          "name": "stdout",
          "text": [
            "10\n",
            "20\n",
            "30\n"
          ]
        }
      ],
      "metadata": {
        "colab": {
          "base_uri": "https://localhost:8080/"
        },
        "id": "HAD5aufm2Z36",
        "outputId": "a42b39aa-a274-4ae3-c8e6-be58fccb9e1e"
      }
    },
    {
      "cell_type": "code",
      "execution_count": null,
      "source": [
        "#insert element at begining of Linked List"
      ],
      "outputs": [],
      "metadata": {
        "id": "ykYyaOKLG0vz"
      }
    },
    {
      "cell_type": "code",
      "execution_count": null,
      "source": [
        "class node:\n",
        "  def __init__(self,data):\n",
        "    self.data = data\n",
        "    self.ref = None\n",
        "  \n",
        "class LinkedList:\n",
        "  def __init__(self):\n",
        "    self.head = None\n",
        "\n",
        "  def print_LL(self):\n",
        "    if self.head is None:\n",
        "      print(\"Linked List Is Empty\")\n",
        "    else:\n",
        "      n = self.head\n",
        "      while n is not None:\n",
        "        print(n.data)\n",
        "        n = n.ref\n",
        "\n",
        "  def add_begin(self, data):\n",
        "    new_node = node(data)\n",
        "    new_node.ref = self.head\n",
        "    self.head = new_node"
      ],
      "outputs": [],
      "metadata": {
        "id": "D5kGwo4k2mTr"
      }
    },
    {
      "cell_type": "code",
      "execution_count": null,
      "source": [
        "obj = LinkedList()\n",
        "obj.add_begin(10)\n",
        "obj.add_begin(20)\n",
        "obj.add_begin(30)\n",
        "obj.print_LL()"
      ],
      "outputs": [
        {
          "output_type": "stream",
          "name": "stdout",
          "text": [
            "30\n",
            "20\n",
            "10\n"
          ]
        }
      ],
      "metadata": {
        "colab": {
          "base_uri": "https://localhost:8080/"
        },
        "id": "xyPI0yC5HXEn",
        "outputId": "75a87584-bd22-49cb-bab1-a92f1dac680f"
      }
    },
    {
      "cell_type": "code",
      "execution_count": null,
      "source": [
        "# Add and element at end of Linked List"
      ],
      "outputs": [],
      "metadata": {
        "id": "YRalPGsZMHmj"
      }
    },
    {
      "cell_type": "code",
      "execution_count": null,
      "source": [
        "class node:\n",
        "  def __init__(self,data):\n",
        "    self.data =  data\n",
        "    self.ref = None\n",
        "  \n",
        "class LinkedList:\n",
        "  def __init__(self):\n",
        "    self.head = None\n",
        "\n",
        "  def print_LL(self):\n",
        "    if self.head is None:\n",
        "      print(\"Linked List is empty\")\n",
        "    else:\n",
        "      n = self.head\n",
        "      while n is not None:\n",
        "        print(n.data)\n",
        "        n = n.ref\n",
        "  def add_begin(self,data):\n",
        "    new_node = node(data)\n",
        "    new_node.ref = self.head\n",
        "    self.head = new_node\n",
        "\n",
        "  def add_end(self,data):\n",
        "    new_node =node(data)\n",
        "    if self.head is None:\n",
        "      print(\"LinkedList is empty\")\n",
        "    else:\n",
        "      n = self.head\n",
        "      while n.ref is not None:\n",
        "        n = n.ref\n",
        "      n.ref = new_node"
      ],
      "outputs": [],
      "metadata": {
        "id": "Oi5bzaZ7HmQW"
      }
    },
    {
      "cell_type": "code",
      "execution_count": null,
      "source": [
        "a = LinkedList()\n",
        "a.add_begin(10)\n",
        "a.add_end(100)\n",
        "a.print_LL()"
      ],
      "outputs": [
        {
          "output_type": "stream",
          "name": "stdout",
          "text": [
            "10\n",
            "100\n"
          ]
        }
      ],
      "metadata": {
        "colab": {
          "base_uri": "https://localhost:8080/"
        },
        "id": "wFpnrfoNLUjS",
        "outputId": "3d575d85-1763-4e7d-d9e0-af3632dedea4"
      }
    },
    {
      "cell_type": "code",
      "execution_count": null,
      "source": [
        "#add after "
      ],
      "outputs": [],
      "metadata": {
        "id": "B_5C4I-o3hrQ"
      }
    },
    {
      "cell_type": "code",
      "execution_count": null,
      "source": [
        "class node:\n",
        "\n",
        "  def __init__(self,data):\n",
        "    self.data = data\n",
        "    self.ref = None\n",
        "\n",
        "class LinkedList:\n",
        "\n",
        "  def __init__(self):\n",
        "    self.head = None\n",
        "\n",
        "  def print_LL(self):\n",
        "    if self.head is None:\n",
        "      print(\"Linked list is empty\")\n",
        "    else:\n",
        "      n = self.head\n",
        "      while n is not None:\n",
        "        print(n.data)\n",
        "        n = n.ref\n",
        "\n",
        "  def add_begin(self, data):\n",
        "    new_node = node(data)\n",
        "    new_node.ref = self.head\n",
        "    self.head = new_node\n",
        "\n",
        "  def add_end(self, data):\n",
        "    new_node = node(data)\n",
        "    if self.head is None:\n",
        "      print(\"Linked List is empty\")\n",
        "    else:\n",
        "      n = self.head\n",
        "      while n.ref is not None:\n",
        "        n = n.ref\n",
        "      n.ref = new_node\n",
        "\n",
        "  def add_after(self,data,x):\n",
        "      n = self.head\n",
        "      while n is not None:\n",
        "          if x==n.data:\n",
        "              break\n",
        "          n = n.ref\n",
        "      if n is None:\n",
        "         print(\"node is not present in LL\")\n",
        "      else:\n",
        "         new_node = node(data)\n",
        "         new_node.ref = n.ref\n",
        "         n.ref = new_node\n"
      ],
      "outputs": [],
      "metadata": {
        "id": "Rk6AjB9fLd7v"
      }
    },
    {
      "cell_type": "code",
      "execution_count": null,
      "source": [
        "a = LinkedList()\n",
        "a.add_begin(10)\n",
        "a.add_begin(20)\n",
        "a.add_after(30,20)\n",
        "a.print_LL()"
      ],
      "outputs": [
        {
          "output_type": "stream",
          "name": "stdout",
          "text": [
            "20\n",
            "30\n",
            "10\n"
          ]
        }
      ],
      "metadata": {
        "colab": {
          "base_uri": "https://localhost:8080/"
        },
        "id": "iNyVDZ41Sjm4",
        "outputId": "93f92169-a4ee-4f3d-8406-d24fd1ef33df"
      }
    },
    {
      "cell_type": "code",
      "execution_count": null,
      "source": [
        "# add_before insertion"
      ],
      "outputs": [],
      "metadata": {
        "id": "p0B0jaa_46yW"
      }
    },
    {
      "cell_type": "code",
      "execution_count": null,
      "source": [
        "class node:\n",
        "\n",
        "  def __init__(self, data):\n",
        "    self.data = data \n",
        "    self.node = None\n",
        "\n",
        "class LinkedList:\n",
        "\n",
        "  def __init__(self):\n",
        "    self.head = None\n",
        "\n",
        "  def print_LL(self):\n",
        "    if self.head is None:\n",
        "      print(\"Linked list is empty\")\n",
        "    else:\n",
        "      n = self.head\n",
        "      while n is not None:\n",
        "        print(n.data)\n",
        "        n = n.ref\n",
        "\n",
        "  def add_begin(self,data):\n",
        "    new_node = node(data)\n",
        "    new_node.ref = self.head\n",
        "    self.head = new_node\n",
        "\n",
        "  def add_end(self,data):\n",
        "    new_node = node(data)\n",
        "    if self.head is None:\n",
        "      print(\"Linked List is empty\")\n",
        "    else:\n",
        "      n = self.head\n",
        "      while n.ref is not None:\n",
        "        n = n.ref\n",
        "      n.ref = new_node\n",
        "\n",
        "  def add_after(self,data,x):\n",
        "    n = self.head\n",
        "    while n is not None:\n",
        "      if x==n.data:\n",
        "        break\n",
        "      n = n.ref\n",
        "    if n is None:\n",
        "      print(\"Node is not present\")\n",
        "    else:\n",
        "      new_node = node(data)\n",
        "      new_node.ref = n.ref\n",
        "      n.ref = new_node\n",
        "\n",
        "  def add_before(self,data,x):\n",
        "    if self.head is None:\n",
        "      print(\"Linked List is empty\")\n",
        "      return\n",
        "    if self.head.data ==x:\n",
        "      new_node = node(data)\n",
        "      new_node.ref = self.head\n",
        "      self.head = new_node\n",
        "      return\n",
        "    n = self.head\n",
        "    while n is not None:\n",
        "      if n.ref.data ==x:\n",
        "        break\n",
        "      n = n.ref\n",
        "    if n is None:\n",
        "      print(\"Node is not present\")\n",
        "    else:\n",
        "      new_node = node(data)\n",
        "      new_node.ref = n.ref\n",
        "      n.ref = new_node"
      ],
      "outputs": [],
      "metadata": {
        "id": "ffYeVY1pS5UQ"
      }
    },
    {
      "cell_type": "code",
      "execution_count": null,
      "source": [
        "ob = LinkedList()\n",
        "ob.add_begin(20)\n",
        "ob.add_begin(10)\n",
        "ob.add_before(30,20)\n",
        "ob.print_LL()"
      ],
      "outputs": [
        {
          "output_type": "stream",
          "name": "stdout",
          "text": [
            "10\n",
            "30\n",
            "20\n"
          ]
        }
      ],
      "metadata": {
        "id": "dVVySOBFFcHi",
        "colab": {
          "base_uri": "https://localhost:8080/"
        },
        "outputId": "71081544-8a8b-498b-9280-197f9c8c25b8"
      }
    },
    {
      "cell_type": "code",
      "execution_count": null,
      "source": [
        "#insert node to empty linked list"
      ],
      "outputs": [],
      "metadata": {
        "id": "OTpphPQ1GXC1"
      }
    },
    {
      "cell_type": "code",
      "execution_count": null,
      "source": [
        "class node:\n",
        "\n",
        "  def __init__(self, data):\n",
        "    self.data = data \n",
        "    self.node = None\n",
        "\n",
        "class LinkedList:\n",
        "\n",
        "  def __init__(self):\n",
        "    self.head = None\n",
        "\n",
        "  def print_LL(self):\n",
        "    if self.head is None:\n",
        "      print(\"Linked list is empty\")\n",
        "    else:\n",
        "      n = self.head\n",
        "    while n is not None:\n",
        "      print(n.data)\n",
        "    n = n.ref\n",
        "\n",
        "  def add_begin(self,data):\n",
        "    new_node = node(data)\n",
        "    new_node.ref = self.head\n",
        "    self.head = new_node\n",
        "\n",
        "  def add_end(self,data):\n",
        "    new_node = node(data)\n",
        "    if self.head is None:\n",
        "      print(\"Linked List is empty\")\n",
        "    else:\n",
        "      n = self.head\n",
        "      while n.ref is not None:\n",
        "        n = n.ref\n",
        "        n.ref = new_node\n",
        "\n",
        "  def add_after(self,data,x):\n",
        "    n = self.head\n",
        "    while n is not None:\n",
        "      if x==n.data:\n",
        "        break\n",
        "      n = n.ref\n",
        "    if n is None:\n",
        "      print(\"Node is not present\")\n",
        "    else:\n",
        "      new_node = node(data)\n",
        "      new_node.ref = n.ref\n",
        "      n.ref = new_node\n",
        "\n",
        "  def add_before(self,data,x):\n",
        "    if self.head is None:\n",
        "      print(\"Linked List is empty\")\n",
        "      return\n",
        "    if self.head.data ==x:\n",
        "      new_node = node(data)\n",
        "      new_node.ref = self.head\n",
        "      self.head = new_node\n",
        "      return\n",
        "    n = self.head\n",
        "    while n is not None:\n",
        "      if n.ref.data ==x:\n",
        "        break\n",
        "      n = n.ref\n",
        "    if n is None:\n",
        "      print(\"Node is not present\")\n",
        "    else:\n",
        "      new_node = node(data)\n",
        "      new_node.ref = n.ref\n",
        "      n.ref = new_node\n",
        "\n",
        "  def insert_empty(self, data):\n",
        "    if self.head is None:\n",
        "      new_node = node(data)\n",
        "      self.head = new_node\n",
        "    else:\n",
        "      print(\"Linked list is not empty\")"
      ],
      "outputs": [],
      "metadata": {
        "id": "AMVcIhItFkH2"
      }
    },
    {
      "cell_type": "code",
      "execution_count": null,
      "source": [
        "a = LinkedList()\n",
        "a.insert_empty(10)\n",
        "a.insert_empty(20)"
      ],
      "outputs": [
        {
          "output_type": "stream",
          "name": "stdout",
          "text": [
            "Linked list is not empty\n"
          ]
        }
      ],
      "metadata": {
        "id": "_AJRCEjeGd4F",
        "colab": {
          "base_uri": "https://localhost:8080/"
        },
        "outputId": "80f33106-97fb-418a-ee7d-92b03a85ec5a"
      }
    },
    {
      "cell_type": "code",
      "execution_count": null,
      "source": [
        "class node:\n",
        "\n",
        "  def __init__(self,data):\n",
        "    self.data = data\n",
        "    self.ref = None\n",
        "class LinkedList:\n",
        "\n",
        "  def __init__(self):\n",
        "    self.head = None\n",
        "\n",
        "  def print_LL(self):\n",
        "    if self.head is None:\n",
        "      print(\"Linked List is Empty\")\n",
        "    else:\n",
        "      n = self.head\n",
        "      while n is not None:\n",
        "        print(n.data)\n",
        "        n = n.ref\n",
        "\n",
        "  def add_begin(self, data):\n",
        "    new_node = node(data)\n",
        "    new_node.ref = self.head\n",
        "    self.head = new_node\n",
        "\n",
        "  def add_end(self, data):\n",
        "    new_node = node(data)\n",
        "    if self.head is None:\n",
        "      print(\"Linked List is Empty\")\n",
        "    else:\n",
        "      n = self.head\n",
        "      while n.ref is not None:\n",
        "        n = n.ref\n",
        "      n.ref = new_node\n",
        "      \n",
        "  def add_after(self,data, x):\n",
        "    n = self.head\n",
        "    while n is not None:\n",
        "      if x==n.data:\n",
        "        break\n",
        "      n = n.ref\n",
        "    if n is None:\n",
        "      print(\"Node is not present\")\n",
        "    else:\n",
        "      new_node = node(data)\n",
        "      new_node.ref = n.ref \n",
        "      n.ref = new_node\n",
        "  def add_before(self,data,x):\n",
        "    if self.head is None:\n",
        "      print(\"Linked List is empty\")\n",
        "    if self.head.data ==x:\n",
        "      new_node = node(data)\n",
        "      new_node.ref = self.head\n",
        "      self.head = new_node\n",
        "      return\n",
        "    n = self.head\n",
        "    while n is not None:\n",
        "      if n.ref.data ==x:\n",
        "        break\n",
        "      n = n.ref\n",
        "    if n is None:\n",
        "      print(\"node is not present\")\n",
        "    else:\n",
        "      new_node = node(data)\n",
        "      new_node.ref = n.ref\n",
        "      n.ref = new_node\n",
        "\n",
        "  def insert_empty(self,data):\n",
        "    if self.head is None:\n",
        "      new_node = node(data)\n",
        "      self.head = new_node\n",
        "    else:\n",
        "      print(\"Linked List is not empty\")\n",
        "  def delete_begin(self):\n",
        "    if self.head is None:\n",
        "      print(\"Linked List is empty\")\n",
        "    else:\n",
        "      self.head = self.head.ref\n"
      ],
      "outputs": [],
      "metadata": {
        "id": "c7b_2PgQGnHv"
      }
    },
    {
      "cell_type": "code",
      "execution_count": null,
      "source": [
        "b = LinkedList()\n",
        "b.add_begin(10)\n",
        "b.add_begin(20)\n",
        "b.add_begin(30)"
      ],
      "outputs": [],
      "metadata": {
        "id": "oVK8Uy2SLKgj"
      }
    },
    {
      "cell_type": "code",
      "execution_count": null,
      "source": [
        "b.delete_begin()\n",
        "b.print_LL()"
      ],
      "outputs": [
        {
          "output_type": "stream",
          "name": "stdout",
          "text": [
            "20\n",
            "10\n"
          ]
        }
      ],
      "metadata": {
        "colab": {
          "base_uri": "https://localhost:8080/"
        },
        "id": "BQSvq8x-Lcri",
        "outputId": "c4931c36-b018-42f9-a12f-d9d0e87ed981"
      }
    },
    {
      "cell_type": "code",
      "execution_count": null,
      "source": [
        "#delete end node"
      ],
      "outputs": [],
      "metadata": {
        "id": "P6H_jOR-ZS-w"
      }
    },
    {
      "cell_type": "code",
      "execution_count": 2,
      "source": [
        "class node:\n",
        "  def __init__(self, data):\n",
        "    self.data = data\n",
        "    self.ref = None\n",
        "class LinkedList:\n",
        "  def __init__(self):\n",
        "    self.head = None\n",
        "\n",
        "  def printLL(self):\n",
        "    if self.head is None:\n",
        "      print(\"LL is empyty\")\n",
        "    else:\n",
        "      n = self.head\n",
        "      while n is not None:\n",
        "        print(n.data)\n",
        "        n = n.ref\n",
        "  def add_begin(self,data):\n",
        "    new_node = node(data)\n",
        "    new_node.ref = self.head\n",
        "    self.head = new_node\n",
        "\n",
        "  def add_end(self, data):\n",
        "    new_node = node(data)\n",
        "    if self.head is None:\n",
        "      print(\"LL is empty\")\n",
        "    else:\n",
        "      n = self.head\n",
        "      while n is not None:\n",
        "        n = n.ref\n",
        "      n.ref = new_node\n",
        "  def add_after(self,data, x):\n",
        "    n = self.head\n",
        "    while n is not None:\n",
        "      if x==n.data:\n",
        "        break\n",
        "      n = n.ref\n",
        "    if n is None:\n",
        "      print(\"Node is not present\")\n",
        "    else:\n",
        "      new_node = node(data)\n",
        "      new_node.ref = n.ref \n",
        "      n.ref = new_node\n",
        "  def add_before(self,data,x):\n",
        "    if self.head is None:\n",
        "      print(\"Linked List is empty\")\n",
        "    if self.head.data ==x:\n",
        "      new_node = node(data)\n",
        "      new_node.ref = self.head\n",
        "      self.head = new_node\n",
        "      return\n",
        "    n = self.head\n",
        "    while n is not None:\n",
        "      if n.ref.data ==x:\n",
        "        break\n",
        "      n = n.ref\n",
        "    if n is None:\n",
        "      print(\"node is not present\")\n",
        "    else:\n",
        "      new_node = node(data)\n",
        "      new_node.ref = n.ref\n",
        "      n.ref = new_node\n",
        "\n",
        "  def insert_empty(self,data):\n",
        "    if self.head is None:\n",
        "      new_node = node(data)\n",
        "      self.head = new_node\n",
        "    else:\n",
        "      print(\"Linked List is not empty\")\n",
        "  def delete_begin(self):\n",
        "    if self.head is None:\n",
        "      print(\"Linked List is empty\")\n",
        "    else:\n",
        "      self.head = self.head.ref\n",
        "  def delete_end(self):\n",
        "    if self.head is None:\n",
        "      print(\"LL is empty\")\n",
        "    else:\n",
        "      n = self.head\n",
        "      while n.ref.ref is not None:\n",
        "        n = n.ref \n",
        "      n.ref = None\n",
        "      "
      ],
      "outputs": [],
      "metadata": {
        "id": "5FJe4rHHL19o"
      }
    },
    {
      "cell_type": "code",
      "execution_count": 6,
      "source": [
        "a = LinkedList()\n",
        "a.add_begin(10)\n",
        "a.add_begin(30)\n",
        "a.add_begin(20)\n",
        "a.add_begin(40)\n",
        "a.printLL()\n",
        "print(\"----------------\")\n",
        "a.delete_end()\n",
        "a.printLL()"
      ],
      "outputs": [
        {
          "output_type": "stream",
          "name": "stdout",
          "text": [
            "40\n",
            "20\n",
            "30\n",
            "10\n",
            "----------------\n",
            "40\n",
            "20\n",
            "30\n"
          ]
        }
      ],
      "metadata": {
        "id": "91ggVWXfYgFT",
        "outputId": "71836530-7b3d-40c4-e89b-9302579b0994",
        "colab": {
          "base_uri": "https://localhost:8080/"
        }
      }
    },
    {
      "cell_type": "code",
      "execution_count": null,
      "source": [],
      "outputs": [],
      "metadata": {
        "id": "l1y5EntSY4of"
      }
    }
  ]
}