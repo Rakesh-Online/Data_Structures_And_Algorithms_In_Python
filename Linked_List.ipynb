{
  "cells": [
    {
      "cell_type": "markdown",
      "metadata": {
        "colab_type": "text",
        "id": "view-in-github"
      },
      "source": [
        "<a hnext=\"https://colab.research.google.com/github/Rakesh-Online/Data_Structures_Python/blob/main/Linked_List.ipynb\" target=\"_parent\"><img src=\"https://colab.research.google.com/assets/colab-badge.svg\" alt=\"Open In Colab\"/></a>"
      ]
    },
    {
      "cell_type": "code",
      "execution_count": null,
      "metadata": {
        "id": "k24bkbfn279E"
      },
      "outputs": [],
      "source": [
        "#Traversing a Linked List"
      ]
    },
    {
      "cell_type": "code",
      "execution_count": null,
      "metadata": {
        "id": "I3EyTt43wV1-"
      },
      "outputs": [],
      "source": [
        "# Node class\n",
        "class node:\n",
        "  # Function to initialize the node object\n",
        "  def __init__(self,data):\n",
        "    self.data = data\n",
        "    self.next = None\n",
        "\n",
        "# Linked List class  \n",
        "class LinkedList:\n",
        "  def __init__(self):\n",
        "    self.head = None\n",
        "\n",
        "  #This function traverse contents of linked list\n",
        "  def print_LL(self):\n",
        "    if self.head is None:\n",
        "      print(\"Linked List Is Empty\")\n",
        "    else:\n",
        "      n = self.head\n",
        "      while n is not None:\n",
        "        print(n.data)\n",
        "        n = n.next\n"
      ]
    },
    {
      "cell_type": "code",
      "execution_count": null,
      "metadata": {
        "colab": {
          "base_uri": "https://localhost:8080/"
        },
        "id": "HAD5aufm2Z36",
        "outputId": "a42b39aa-a274-4ae3-c8e6-be58fccb9e1e"
      },
      "outputs": [
        {
          "name": "stdout",
          "output_type": "stream",
          "text": [
            "10\n",
            "20\n",
            "30\n"
          ]
        }
      ],
      "source": [
        "# Start with the empty list\n",
        "obj = LinkedList()\n",
        "\n",
        "#creating 3 nodes \n",
        "obj.head = node(\"10\")\n",
        "obj1 = node(\"20\")\n",
        "obj2 = node(\"30\")\n",
        "\n",
        "# Link first node with second\n",
        "obj.head.next = obj1\n",
        "\n",
        "# Link second node with the third node\n",
        "obj1.next= obj2\n",
        "\n",
        "\n",
        "obj.print_LL()"
      ]
    },
    {
      "cell_type": "code",
      "execution_count": null,
      "metadata": {
        "id": "ykYyaOKLG0vz"
      },
      "outputs": [],
      "source": [
        "#insert element at begining of Linked List"
      ]
    },
    {
      "cell_type": "code",
      "execution_count": null,
      "metadata": {
        "id": "D5kGwo4k2mTr"
      },
      "outputs": [],
      "source": [
        "# Node class\n",
        "class node:\n",
        "  def __init__(self,data):\n",
        "    self.data = data\n",
        "    self.next = None\n",
        "    \n",
        "# Linked List class  \n",
        "class LinkedList:\n",
        "  def __init__(self):\n",
        "    self.head = None\n",
        "\n",
        "  #This function traverse contents of linked list\n",
        "  def print_LL(self):\n",
        "    if self.head is None:\n",
        "      print(\"Linked List Is Empty\")\n",
        "    else:\n",
        "      n = self.head\n",
        "      while n is not None:\n",
        "        print(n.data)\n",
        "        n = n.next\n",
        "\n",
        "  #Function to insert a new node at the beginning\n",
        "  def add_begin(self, data):\n",
        "    new_node = node(data)\n",
        "    #Make next of new Node as head\n",
        "    new_node.next = self.head\n",
        "    #Move the head to point to new Node\n",
        "    self.head = new_node"
      ]
    },
    {
      "cell_type": "code",
      "execution_count": null,
      "metadata": {
        "colab": {
          "base_uri": "https://localhost:8080/"
        },
        "id": "xyPI0yC5HXEn",
        "outputId": "75a87584-bd22-49cb-bab1-a92f1dac680f"
      },
      "outputs": [
        {
          "name": "stdout",
          "output_type": "stream",
          "text": [
            "30\n",
            "20\n",
            "10\n"
          ]
        }
      ],
      "source": [
        "obj = LinkedList()\n",
        "obj.add_begin(10)\n",
        "obj.add_begin(20)\n",
        "obj.add_begin(30)\n",
        "obj.print_LL()"
      ]
    },
    {
      "cell_type": "code",
      "execution_count": null,
      "metadata": {
        "id": "YRalPGsZMHmj"
      },
      "outputs": [],
      "source": [
        "# Add and element at end of Linked List"
      ]
    },
    {
      "cell_type": "code",
      "execution_count": null,
      "metadata": {
        "id": "Oi5bzaZ7HmQW"
      },
      "outputs": [],
      "source": [
        "class node:\n",
        "  def __init__(self,data):\n",
        "    self.data =  data\n",
        "    self.next = None\n",
        "  \n",
        "class LinkedList:\n",
        "  def __init__(self):\n",
        "    self.head = None\n",
        "\n",
        "  def print_LL(self):\n",
        "    if self.head is None:\n",
        "      print(\"Linked List is empty\")\n",
        "    else:\n",
        "      n = self.head\n",
        "      while n is not None:\n",
        "        print(n.data)\n",
        "        n = n.next\n",
        "  #Function to insert a new node at the beginning\n",
        "  def add_begin(self,data):\n",
        "    new_node = node(data)\n",
        "    #Make next of new Node as head\n",
        "    new_node.next = self.head\n",
        "    #Move the head to point to new Node\n",
        "    self.head = new_node\n",
        "\n",
        "  #Function to insert a new node at the end\n",
        "  def add_end(self,data):\n",
        "    new_node =node(data)\n",
        "    if self.head is None:\n",
        "      print(\"LinkedList is empty\")\n",
        "    else:\n",
        "      n = self.head\n",
        "      while n.next is not None:\n",
        "        n = n.next\n",
        "      n.next = new_node"
      ]
    },
    {
      "cell_type": "code",
      "execution_count": null,
      "metadata": {},
      "outputs": [],
      "source": [
        "class node:\n",
        "  def __init__(self,data):\n",
        "    self.data =  data\n",
        "    self.next = None\n",
        "  \n",
        "class LinkedList:\n",
        "  def __init__(self):\n",
        "    self.head = None\n",
        "\n",
        "  def print_LL(self):\n",
        "    if self.head is None:\n",
        "      print(\"Linked List is empty\")\n",
        "    else:\n",
        "      n = self.head\n",
        "      while n is not None:\n",
        "        print(n.data)\n",
        "        n = n.next\n",
        "  #Function to insert a new node at the beginning\n",
        "  def add_begin(self,data):\n",
        "    new_node = node(data)\n",
        "    #Make next of new Node as head\n",
        "    new_node.next = self.head\n",
        "    #Move the head to point to new Node\n",
        "    self.head = new_node\n",
        "\n",
        "  #Function to insert a new node at the end\n",
        "  def add_end(self,data):\n",
        "    new_node =node(data)\n",
        "    if self.head is None:\n",
        "      print(\"LinkedList is empty\")\n",
        "    else:\n",
        "      n = self.head\n",
        "      while n.next is not None:\n",
        "        n = n.next\n",
        "      n.next = new_node"
      ]
    },
    {
      "cell_type": "code",
      "execution_count": null,
      "metadata": {
        "colab": {
          "base_uri": "https://localhost:8080/"
        },
        "id": "wFpnrfoNLUjS",
        "outputId": "3d575d85-1763-4e7d-d9e0-af3632dedea4"
      },
      "outputs": [
        {
          "name": "stdout",
          "output_type": "stream",
          "text": [
            "10\n",
            "100\n"
          ]
        }
      ],
      "source": [
        "a = LinkedList()\n",
        "a.add_begin(10)\n",
        "a.add_end(100)\n",
        "a.print_LL()"
      ]
    },
    {
      "cell_type": "code",
      "execution_count": null,
      "metadata": {},
      "outputs": [],
      "source": [
        "#Node class\n",
        "class node:\n",
        "  def __init__(self,data):\n",
        "    self.data =  data\n",
        "    self.next = None\n",
        "\n",
        "# Linked List class\n",
        "class LinkedList:\n",
        "  def __init__(self):\n",
        "    self.head = None\n",
        "\n",
        "  #This function traverse contents of linked list\n",
        "  def print_LL(self):\n",
        "    if self.head is None:\n",
        "      print(\"Linked List is empty\")\n",
        "    else:\n",
        "      n = self.head\n",
        "      while n is not None:\n",
        "        print(n.data)\n",
        "        n = n.next\n",
        "\n",
        "  #Function to insert a new node at the end\n",
        "  def add_end(self,data):\n",
        "    new_node =node(data)\n",
        "    if self.head is None:\n",
        "      print(\"LinkedList is empty\")\n",
        "    else:\n",
        "      n = self.head\n",
        "      #traverse till the last node\n",
        "      while n.next is not None:\n",
        "        n = n.next\n",
        "      #Change the next of last node\n",
        "      n.next = new_node"
      ]
    },
    {
      "cell_type": "code",
      "execution_count": null,
      "metadata": {
        "id": "B_5C4I-o3hrQ"
      },
      "outputs": [],
      "source": [
        "#add after "
      ]
    },
    {
      "cell_type": "code",
      "execution_count": null,
      "metadata": {
        "id": "Rk6AjB9fLd7v"
      },
      "outputs": [],
      "source": [
        "class node:\n",
        "\n",
        "  def __init__(self,data):\n",
        "    self.data = data\n",
        "    self.next = None\n",
        "\n",
        "class LinkedList:\n",
        "\n",
        "  def __init__(self):\n",
        "    self.head = None\n",
        "\n",
        "  def print_LL(self):\n",
        "    if self.head is None:\n",
        "      print(\"Linked list is empty\")\n",
        "    else:\n",
        "      n = self.head\n",
        "      while n is not None:\n",
        "        print(n.data)\n",
        "        n = n.next\n",
        "\n",
        "  def add_begin(self, data):\n",
        "    new_node = node(data)\n",
        "    new_node.next = self.head\n",
        "    self.head = new_node\n",
        "\n",
        "  def add_end(self, data):\n",
        "    new_node = node(data)\n",
        "    if self.head is None:\n",
        "      print(\"Linked List is empty\")\n",
        "    else:\n",
        "      n = self.head\n",
        "      while n.next is not None:\n",
        "        n = n.next\n",
        "      n.next = new_node\n",
        "\n",
        "  def add_after(self,prev_node, new_data):\n",
        "      n = self.head\n",
        "      #traverse till the prev_node \n",
        "      while n is not None:\n",
        "          if prev_node==n.data:\n",
        "              break\n",
        "          n = n.next\n",
        "      if n is None:\n",
        "         print(\"node is not present in LL\")\n",
        "      else:\n",
        "         new_node = node(new_data)\n",
        "         new_node.next = n.next\n",
        "         n.next = new_node\n"
      ]
    },
    {
      "cell_type": "code",
      "execution_count": null,
      "metadata": {},
      "outputs": [],
      "source": [
        "class node:\n",
        "  def __init__(self,data):\n",
        "    self.data = data\n",
        "    self.next = None\n",
        "\n",
        "class LinkedList:\n",
        "  def __init__(self):\n",
        "    self.head = None\n",
        "\n",
        "  def print_LL(self):\n",
        "    if self.head is None:\n",
        "      print(\"Linked list is empty\")\n",
        "    else:\n",
        "      n = self.head\n",
        "      while n is not None:\n",
        "        print(n.data)\n",
        "        n = n.next\n",
        "\n",
        "  def add_after(self,prev_node, new_data):\n",
        "      n = self.head\n",
        "      #traverse till the prev_node \n",
        "      while n is not None:\n",
        "          if prev_node==n.data:\n",
        "              break\n",
        "          n = n.next\n",
        "      if n is None:\n",
        "         print(\"node is not present in LL\")\n",
        "      else:\n",
        "         new_node = node(new_data)\n",
        "         new_node.next = n.next\n",
        "         #Change the next of last node\n",
        "         n.next = new_node"
      ]
    },
    {
      "cell_type": "code",
      "execution_count": null,
      "metadata": {
        "colab": {
          "base_uri": "https://localhost:8080/"
        },
        "id": "iNyVDZ41Sjm4",
        "outputId": "93f92169-a4ee-4f3d-8406-d24fd1ef33df"
      },
      "outputs": [
        {
          "name": "stdout",
          "output_type": "stream",
          "text": [
            "20\n",
            "30\n",
            "10\n"
          ]
        }
      ],
      "source": [
        "a = LinkedList()\n",
        "a.add_begin(10)\n",
        "a.add_begin(20)\n",
        "a.add_after(30,20)\n",
        "a.print_LL()"
      ]
    },
    {
      "cell_type": "code",
      "execution_count": null,
      "metadata": {
        "id": "p0B0jaa_46yW"
      },
      "outputs": [],
      "source": [
        "# add_before insertion"
      ]
    },
    {
      "cell_type": "code",
      "execution_count": null,
      "metadata": {
        "id": "ffYeVY1pS5UQ"
      },
      "outputs": [],
      "source": [
        "class node:\n",
        "\n",
        "  def __init__(self, data):\n",
        "    self.data = data \n",
        "    self.node = None\n",
        "\n",
        "class LinkedList:\n",
        "\n",
        "  def __init__(self):\n",
        "    self.head = None\n",
        "\n",
        "  def print_LL(self):\n",
        "    if self.head is None:\n",
        "      print(\"Linked list is empty\")\n",
        "    else:\n",
        "      n = self.head\n",
        "      while n is not None:\n",
        "        print(n.data)\n",
        "        n = n.next\n",
        "\n",
        "  def add_begin(self,data):\n",
        "    new_node = node(data)\n",
        "    new_node.next = self.head\n",
        "    self.head = new_node\n",
        "\n",
        "  def add_end(self,data):\n",
        "    new_node = node(data)\n",
        "    if self.head is None:\n",
        "      print(\"Linked List is empty\")\n",
        "    else:\n",
        "      n = self.head\n",
        "      while n.next is not None:\n",
        "        n = n.next\n",
        "      n.next = new_node\n",
        "\n",
        "  def add_after(self,data,x):\n",
        "    n = self.head\n",
        "    while n is not None:\n",
        "      if x==n.data:\n",
        "        break\n",
        "      n = n.next\n",
        "    if n is None:\n",
        "      print(\"Node is not present\")\n",
        "    else:\n",
        "      new_node = node(data)\n",
        "      new_node.next = n.next\n",
        "      n.next = new_node\n",
        "\n",
        "  def add_before(self,data,x):\n",
        "    if self.head is None:\n",
        "      print(\"Linked List is empty\")\n",
        "      return\n",
        "    if self.head.data ==x:\n",
        "      new_node = node(data)\n",
        "      new_node.next = self.head\n",
        "      self.head = new_node\n",
        "      return\n",
        "    n = self.head\n",
        "    while n is not None:\n",
        "      if n.next.data ==x:\n",
        "        break\n",
        "      n = n.next\n",
        "    if n is None:\n",
        "      print(\"Node is not present\")\n",
        "    else:\n",
        "      new_node = node(data)\n",
        "      new_node.next = n.next\n",
        "      n.next = new_node"
      ]
    },
    {
      "cell_type": "code",
      "execution_count": null,
      "metadata": {
        "colab": {
          "base_uri": "https://localhost:8080/"
        },
        "id": "dVVySOBFFcHi",
        "outputId": "71081544-8a8b-498b-9280-197f9c8c25b8"
      },
      "outputs": [
        {
          "name": "stdout",
          "output_type": "stream",
          "text": [
            "10\n",
            "30\n",
            "20\n"
          ]
        }
      ],
      "source": [
        "ob = LinkedList()\n",
        "ob.add_begin(20)\n",
        "ob.add_begin(10)\n",
        "ob.add_before(30,20)\n",
        "ob.print_LL()"
      ]
    },
    {
      "cell_type": "code",
      "execution_count": 10,
      "metadata": {},
      "outputs": [],
      "source": [
        "# Node class\n",
        "class node:\n",
        "  def __init__(self, data):\n",
        "    self.data = data \n",
        "    self.node = None\n",
        "\n",
        "# Linked List class\n",
        "class LinkedList:\n",
        "  def __init__(self):\n",
        "    self.head = None\n",
        "\n",
        "  #This function traverse contents of linked list\n",
        "  def print_LL(self):\n",
        "    if self.head is None:\n",
        "      print(\"Linked list is empty\")\n",
        "    else:\n",
        "      n = self.head\n",
        "      while n is not None:\n",
        "        print(n.data)\n",
        "        n = n.next\n",
        "\n",
        "  def add_before(self,given_node,newdata):\n",
        "    if self.head is None:\n",
        "      print(\"Linked List is empty\")\n",
        "      return\n",
        "      \n",
        "    if self.head.data ==given_node:\n",
        "      new_node = node(newdata)\n",
        "      new_node.next = self.head\n",
        "      self.head = new_node\n",
        "      return\n",
        "    n = self.head\n",
        "    while n is not None:\n",
        "      if n.next.data ==given_node:\n",
        "        break\n",
        "      n = n.next\n",
        "    if n is None:\n",
        "      print(\"Node is not present\")\n",
        "    else:\n",
        "      new_node = node(newdata)\n",
        "      new_node.next = n.next\n",
        "      n.next = new_node"
      ]
    },
    {
      "cell_type": "code",
      "execution_count": 12,
      "metadata": {},
      "outputs": [
        {
          "name": "stdout",
          "output_type": "stream",
          "text": [
            "10\n",
            "30\n",
            "20\n"
          ]
        }
      ],
      "source": [
        "ob = LinkedList()\n",
        "\n",
        "ob.add_begin(10)\n",
        "ob.add_end(20)\n",
        "ob.add_before(20,30)\n",
        "ob.print_LL()"
      ]
    },
    {
      "cell_type": "code",
      "execution_count": null,
      "metadata": {
        "id": "OTpphPQ1GXC1"
      },
      "outputs": [],
      "source": [
        "#insert node to empty linked list"
      ]
    },
    {
      "cell_type": "code",
      "execution_count": null,
      "metadata": {
        "id": "AMVcIhItFkH2"
      },
      "outputs": [],
      "source": [
        "class node:\n",
        "\n",
        "  def __init__(self, data):\n",
        "    self.data = data \n",
        "    self.node = None\n",
        "\n",
        "class LinkedList:\n",
        "\n",
        "  def __init__(self):\n",
        "    self.head = None\n",
        "\n",
        "  def print_LL(self):\n",
        "    if self.head is None:\n",
        "      print(\"Linked list is empty\")\n",
        "    else:\n",
        "      n = self.head\n",
        "    while n is not None:\n",
        "      print(n.data)\n",
        "    n = n.next\n",
        "\n",
        "  def add_begin(self,data):\n",
        "    new_node = node(data)\n",
        "    new_node.next = self.head\n",
        "    self.head = new_node\n",
        "\n",
        "  def add_end(self,data):\n",
        "    new_node = node(data)\n",
        "    if self.head is None:\n",
        "      print(\"Linked List is empty\")\n",
        "    else:\n",
        "      n = self.head\n",
        "      while n.next is not None:\n",
        "        n = n.next\n",
        "        n.next = new_node\n",
        "\n",
        "  def add_after(self,data,x):\n",
        "    n = self.head\n",
        "    while n is not None:\n",
        "      if x==n.data:\n",
        "        break\n",
        "      n = n.next\n",
        "    if n is None:\n",
        "      print(\"Node is not present\")\n",
        "    else:\n",
        "      new_node = node(data)\n",
        "      new_node.next = n.next\n",
        "      n.next = new_node\n",
        "\n",
        "  def add_before(self,data,x):\n",
        "    if self.head is None:\n",
        "      print(\"Linked List is empty\")\n",
        "      return\n",
        "    if self.head.data ==x:\n",
        "      new_node = node(data)\n",
        "      new_node.next = self.head\n",
        "      self.head = new_node\n",
        "      return\n",
        "    n = self.head\n",
        "    while n is not None:\n",
        "      if n.next.data ==x:\n",
        "        break\n",
        "      n = n.next\n",
        "    if n is None:\n",
        "      print(\"Node is not present\")\n",
        "    else:\n",
        "      new_node = node(data)\n",
        "      new_node.next = n.next\n",
        "      n.next = new_node\n",
        "\n",
        "  def insert_empty(self, data):\n",
        "    if self.head is None:\n",
        "      new_node = node(data)\n",
        "      self.head = new_node\n",
        "    else:\n",
        "      print(\"Linked list is not empty\")"
      ]
    },
    {
      "cell_type": "code",
      "execution_count": null,
      "metadata": {
        "colab": {
          "base_uri": "https://localhost:8080/"
        },
        "id": "_AJRCEjeGd4F",
        "outputId": "80f33106-97fb-418a-ee7d-92b03a85ec5a"
      },
      "outputs": [
        {
          "name": "stdout",
          "output_type": "stream",
          "text": [
            "Linked list is not empty\n"
          ]
        }
      ],
      "source": [
        "a = LinkedList()\n",
        "a.insert_empty(10)\n",
        "a.insert_empty(20)"
      ]
    },
    {
      "cell_type": "code",
      "execution_count": null,
      "metadata": {
        "id": "c7b_2PgQGnHv"
      },
      "outputs": [],
      "source": [
        "class node:\n",
        "\n",
        "  def __init__(self,data):\n",
        "    self.data = data\n",
        "    self.next = None\n",
        "class LinkedList:\n",
        "\n",
        "  def __init__(self):\n",
        "    self.head = None\n",
        "\n",
        "  def print_LL(self):\n",
        "    if self.head is None:\n",
        "      print(\"Linked List is Empty\")\n",
        "    else:\n",
        "      n = self.head\n",
        "      while n is not None:\n",
        "        print(n.data)\n",
        "        n = n.next\n",
        "\n",
        "  def add_begin(self, data):\n",
        "    new_node = node(data)\n",
        "    new_node.next = self.head\n",
        "    self.head = new_node\n",
        "\n",
        "  def add_end(self, data):\n",
        "    new_node = node(data)\n",
        "    if self.head is None:\n",
        "      print(\"Linked List is Empty\")\n",
        "    else:\n",
        "      n = self.head\n",
        "      while n.next is not None:\n",
        "        n = n.next\n",
        "      n.next = new_node\n",
        "      \n",
        "  def add_after(self,data, x):\n",
        "    n = self.head\n",
        "    while n is not None:\n",
        "      if x==n.data:\n",
        "        break\n",
        "      n = n.next\n",
        "    if n is None:\n",
        "      print(\"Node is not present\")\n",
        "    else:\n",
        "      new_node = node(data)\n",
        "      new_node.next = n.next \n",
        "      n.next = new_node\n",
        "  def add_before(self,data,x):\n",
        "    if self.head is None:\n",
        "      print(\"Linked List is empty\")\n",
        "    if self.head.data ==x:\n",
        "      new_node = node(data)\n",
        "      new_node.next = self.head\n",
        "      self.head = new_node\n",
        "      return\n",
        "    n = self.head\n",
        "    while n is not None:\n",
        "      if n.next.data ==x:\n",
        "        break\n",
        "      n = n.next\n",
        "    if n is None:\n",
        "      print(\"node is not present\")\n",
        "    else:\n",
        "      new_node = node(data)\n",
        "      new_node.next = n.next\n",
        "      n.next = new_node\n",
        "\n",
        "  def insert_empty(self,data):\n",
        "    if self.head is None:\n",
        "      new_node = node(data)\n",
        "      self.head = new_node\n",
        "    else:\n",
        "      print(\"Linked List is not empty\")\n",
        "\n",
        "      \n",
        "  def delete_begin(self):\n",
        "    if self.head is None:\n",
        "      print(\"Linked List is empty\")\n",
        "    else:\n",
        "      self.head = self.head.next\n"
      ]
    },
    {
      "cell_type": "code",
      "execution_count": null,
      "metadata": {},
      "outputs": [],
      "source": []
    },
    {
      "cell_type": "code",
      "execution_count": null,
      "metadata": {
        "id": "oVK8Uy2SLKgj"
      },
      "outputs": [],
      "source": [
        "b = LinkedList()\n",
        "b.add_begin(10)\n",
        "b.add_begin(20)\n",
        "b.add_begin(30)"
      ]
    },
    {
      "cell_type": "code",
      "execution_count": null,
      "metadata": {
        "colab": {
          "base_uri": "https://localhost:8080/"
        },
        "id": "BQSvq8x-Lcri",
        "outputId": "c4931c36-b018-42f9-a12f-d9d0e87ed981"
      },
      "outputs": [
        {
          "name": "stdout",
          "output_type": "stream",
          "text": [
            "20\n",
            "10\n"
          ]
        }
      ],
      "source": [
        "b.delete_begin()\n",
        "b.print_LL()"
      ]
    },
    {
      "cell_type": "code",
      "execution_count": 1,
      "metadata": {},
      "outputs": [],
      "source": [
        "class node:\n",
        "\n",
        "  def __init__(self,data):\n",
        "    self.data = data\n",
        "    self.next = None\n",
        "class LinkedList:\n",
        "\n",
        "  def __init__(self):\n",
        "    self.head = None\n",
        "\n",
        "  def print_LL(self):\n",
        "    if self.head is None:\n",
        "      print(\"Linked List is Empty\")\n",
        "    else:\n",
        "      n = self.head\n",
        "      while n is not None:\n",
        "        print(n.data)\n",
        "        n = n.next\n",
        "\n",
        "  def add_begin(self, data):\n",
        "    new_node = node(data)\n",
        "    new_node.next = self.head\n",
        "    self.head = new_node\n",
        "\n",
        "  def add_end(self, data):\n",
        "    new_node = node(data)\n",
        "    if self.head is None:\n",
        "      print(\"Linked List is Empty\")\n",
        "    else:\n",
        "      n = self.head\n",
        "      while n.next is not None:\n",
        "        n = n.next\n",
        "      n.next = new_node\n",
        "      \n",
        "  #delete the first node\n",
        "  def delete_begin(self):\n",
        "    if self.head is None:\n",
        "      print(\"Linked List is empty\")\n",
        "    else:\n",
        "      self.head = self.head.next\n"
      ]
    },
    {
      "cell_type": "code",
      "execution_count": 4,
      "metadata": {},
      "outputs": [
        {
          "name": "stdout",
          "output_type": "stream",
          "text": [
            "10\n",
            "20\n",
            "30\n"
          ]
        }
      ],
      "source": [
        "b = LinkedList()\n",
        "b.add_begin(10)\n",
        "b.add_end(20)\n",
        "b.add_end(30)\n",
        "b.print_LL()"
      ]
    },
    {
      "cell_type": "code",
      "execution_count": 6,
      "metadata": {},
      "outputs": [
        {
          "data": {
            "text/plain": [
              "<bound method LinkedList.print_LL of <__main__.LinkedList object at 0x000001BF6E161190>>"
            ]
          },
          "execution_count": 6,
          "metadata": {},
          "output_type": "execute_result"
        }
      ],
      "source": [
        "b.delete_begin()\n",
        "b.print_LL()"
      ]
    },
    {
      "cell_type": "code",
      "execution_count": null,
      "metadata": {
        "id": "P6H_jOR-ZS-w"
      },
      "outputs": [],
      "source": [
        "#delete end node"
      ]
    },
    {
      "cell_type": "code",
      "execution_count": 2,
      "metadata": {
        "id": "5FJe4rHHL19o"
      },
      "outputs": [],
      "source": [
        "class node:\n",
        "  def __init__(self, data):\n",
        "    self.data = data\n",
        "    self.next = None\n",
        "class LinkedList:\n",
        "  def __init__(self):\n",
        "    self.head = None\n",
        "\n",
        "  def printLL(self):\n",
        "    if self.head is None:\n",
        "      print(\"LL is empyty\")\n",
        "    else:\n",
        "      n = self.head\n",
        "      while n is not None:\n",
        "        print(n.data)\n",
        "        n = n.next\n",
        "  def add_begin(self,data):\n",
        "    new_node = node(data)\n",
        "    new_node.next = self.head\n",
        "    self.head = new_node\n",
        "\n",
        "  def add_end(self, data):\n",
        "    new_node = node(data)\n",
        "    if self.head is None:\n",
        "      print(\"LL is empty\")\n",
        "    else:\n",
        "      n = self.head\n",
        "      while n is not None:\n",
        "        n = n.next\n",
        "      n.next = new_node\n",
        "  def add_after(self,data, x):\n",
        "    n = self.head\n",
        "    while n is not None:\n",
        "      if x==n.data:\n",
        "        break\n",
        "      n = n.next\n",
        "    if n is None:\n",
        "      print(\"Node is not present\")\n",
        "    else:\n",
        "      new_node = node(data)\n",
        "      new_node.next = n.next \n",
        "      n.next = new_node\n",
        "      \n",
        "  def add_before(self,data,x):\n",
        "    if self.head is None:\n",
        "      print(\"Linked List is empty\")\n",
        "    if self.head.data ==x:\n",
        "      new_node = node(data)\n",
        "      new_node.next = self.head\n",
        "      self.head = new_node\n",
        "      return\n",
        "    n = self.head\n",
        "    while n is not None:\n",
        "      if n.next.data ==x:\n",
        "        break\n",
        "      n = n.next\n",
        "    if n is None:\n",
        "      print(\"node is not present\")\n",
        "    else:\n",
        "      new_node = node(data)\n",
        "      new_node.next = n.next\n",
        "      n.next = new_node\n",
        "\n",
        "  def insert_empty(self,data):\n",
        "    if self.head is None:\n",
        "      new_node = node(data)\n",
        "      self.head = new_node\n",
        "    else:\n",
        "      print(\"Linked List is not empty\")\n",
        "  def delete_begin(self):\n",
        "    if self.head is None:\n",
        "      print(\"Linked List is empty\")\n",
        "    else:\n",
        "      self.head = self.head.next\n",
        "  def delete_end(self):\n",
        "    if self.head is None:\n",
        "      print(\"LL is empty\")\n",
        "    else:\n",
        "      n = self.head\n",
        "      while n.next.next is not None:\n",
        "        n = n.next \n",
        "      n.next = None\n",
        "      "
      ]
    },
    {
      "cell_type": "code",
      "execution_count": 6,
      "metadata": {
        "colab": {
          "base_uri": "https://localhost:8080/"
        },
        "id": "91ggVWXfYgFT",
        "outputId": "71836530-7b3d-40c4-e89b-9302579b0994"
      },
      "outputs": [
        {
          "name": "stdout",
          "output_type": "stream",
          "text": [
            "40\n",
            "20\n",
            "30\n",
            "10\n",
            "----------------\n",
            "40\n",
            "20\n",
            "30\n"
          ]
        }
      ],
      "source": [
        "a = LinkedList()\n",
        "a.add_begin(10)\n",
        "a.add_begin(30)\n",
        "a.add_begin(20)\n",
        "a.add_begin(40)\n",
        "a.printLL()\n",
        "print(\"----------------\")\n",
        "a.delete_end()\n",
        "a.printLL()"
      ]
    },
    {
      "cell_type": "code",
      "execution_count": 2,
      "metadata": {
        "id": "l1y5EntSY4of"
      },
      "outputs": [],
      "source": [
        "class node:\n",
        "  def __init__(self, data):\n",
        "    self.data = data\n",
        "    self.next = None\n",
        "class LinkedList:\n",
        "  def __init__(self):\n",
        "    self.head = None\n",
        "\n",
        "  def printLL(self):\n",
        "    if self.head is None:\n",
        "      print(\"LL is empyty\")\n",
        "    else:\n",
        "      n = self.head\n",
        "      while n is not None:\n",
        "        print(n.data)\n",
        "        n = n.next\n",
        "  def add_begin(self, data):\n",
        "    new_node = node(data)\n",
        "    new_node.next = self.head\n",
        "    self.head = new_node\n",
        "\n",
        "  def add_end(self, data):\n",
        "    new_node = node(data)\n",
        "    if self.head is None:\n",
        "      print(\"Linked List is Empty\")\n",
        "    else:\n",
        "      n = self.head\n",
        "      while n.next is not None:\n",
        "        n = n.next\n",
        "      n.next = new_node\n",
        "\n",
        "# delete the last node\n",
        "  def delete_end(self):\n",
        "    #Condition to check node is empty or not\n",
        "    if self.head is None:\n",
        "      print(\"LL is empty\")\n",
        "    else:\n",
        "    #if not is not empty\n",
        "      n = self.head\n",
        "    # traverse till last node and change last node to none\n",
        "      while n.next.next is not None:\n",
        "        n = n.next \n",
        "      n.next = None\n",
        "      "
      ]
    },
    {
      "cell_type": "code",
      "execution_count": 7,
      "metadata": {},
      "outputs": [
        {
          "name": "stdout",
          "output_type": "stream",
          "text": [
            "10\n",
            "20\n",
            "30\n"
          ]
        }
      ],
      "source": [
        "a = LinkedList()\n",
        "a.add_begin(10)\n",
        "a.add_end(20)\n",
        "a.add_end(30)\n",
        "a.printLL()\n"
      ]
    },
    {
      "cell_type": "code",
      "execution_count": 8,
      "metadata": {},
      "outputs": [
        {
          "name": "stdout",
          "output_type": "stream",
          "text": [
            "10\n",
            "20\n"
          ]
        }
      ],
      "source": [
        "a.delete_end()\n",
        "a.printLL()"
      ]
    },
    {
      "cell_type": "code",
      "execution_count": 17,
      "metadata": {},
      "outputs": [],
      "source": [
        "class node:\n",
        "    def __init__(self, data):\n",
        "        self.data = data\n",
        "        self.next = None \n",
        "\n",
        "class LinkedList:\n",
        "    def __init__(self):\n",
        "        self.head = None\n",
        "\n",
        "    def printLL(self):\n",
        "        \n",
        "        if self.head is None:\n",
        "            print(\"LL is empty\")\n",
        "        else:\n",
        "            n = self.head\n",
        "            while n is not None:\n",
        "                print(n.data)\n",
        "                n = n.next\n",
        "    def add_begin(self, data):\n",
        "        new_node = node(data)\n",
        "        new_node.next = self.head\n",
        "        self.head = new_node\n",
        "\n",
        "    def add_end(self, data):\n",
        "        if self.head is None:\n",
        "            print(\"LL is empty\")\n",
        "        else:\n",
        "            new_node = node(data)\n",
        "            n = self.head\n",
        "            while n.next is not None:\n",
        "                n = n.next\n",
        "            n.next = new_node\n",
        "    \n",
        "    def delete_given_node(self, key):\n",
        "        n = self.head\n",
        "        #check weather head node is empty\n",
        "        if n is None:\n",
        "            print(\"LL is empty\")\n",
        "            return \n",
        "        #if given node is the first node \n",
        "        # change head node to the next node\n",
        "        if n.data == key:\n",
        "            n = n.next\n",
        "            return\n",
        "        \n",
        "        #traverse throught the Linkedlist\n",
        "        while n.next is not None:\n",
        "            #condition to identify previous node\n",
        "            if n.next.data == key:\n",
        "                break\n",
        "            n = n.next\n",
        "        \n",
        "        if n.next is None:\n",
        "            print(\"Node is not availble\")\n",
        "        else:\n",
        "            #nexterence to previous node to the next node\n",
        "            n.next = n.next.next\n"
      ]
    },
    {
      "cell_type": "code",
      "execution_count": 21,
      "metadata": {},
      "outputs": [
        {
          "name": "stdout",
          "output_type": "stream",
          "text": [
            "10\n",
            "20\n",
            "30\n",
            "40\n"
          ]
        }
      ],
      "source": [
        "a = LinkedList()\n",
        "a.add_begin(10)\n",
        "a.add_end(20)\n",
        "a.add_end(30)\n",
        "a.add_end(40)\n",
        "a.printLL()"
      ]
    },
    {
      "cell_type": "markdown",
      "metadata": {},
      "source": []
    },
    {
      "cell_type": "code",
      "execution_count": 22,
      "metadata": {},
      "outputs": [
        {
          "name": "stdout",
          "output_type": "stream",
          "text": [
            "10\n",
            "20\n",
            "30\n"
          ]
        }
      ],
      "source": [
        "a.delete_given_node(30)\n",
        "a.printLL()"
      ]
    },
    {
      "cell_type": "code",
      "execution_count": 20,
      "metadata": {},
      "outputs": [],
      "source": [
        "\n",
        "class node():\n",
        "    def __init__(self,data):\n",
        "        self.data = data\n",
        "        self.next = None\n",
        "\n",
        "class LinkedList:\n",
        "    def __init__(self):\n",
        "        self.head = None\n",
        "\n",
        "    def printLL(self):\n",
        "        n = self.head\n",
        "        if n is None:\n",
        "            print(\"LL is empty\")\n",
        "        while n is not None:\n",
        "            print(n.data)\n",
        "            n = n.next \n",
        "            \n",
        "    def add_begin(self, x):\n",
        "        new_node = node(x)\n",
        "        new_node.next = self.head\n",
        "        self.head = new_node\n",
        "\n",
        "    def add_end(self, x):\n",
        "        if self.head is None:\n",
        "            print(\"LL is empty\")\n",
        "        else:\n",
        "            new_node = node(x)\n",
        "            n = self.head\n",
        "            while n.next is not None:\n",
        "                n = n.next\n",
        "            n.next = new_node\n",
        "\n",
        "    def reverse_LL(self):\n",
        "        prev = None\n",
        "        curr = self.head\n",
        "        while (curr is not None):\n",
        "            next = curr.next\n",
        "            curr.next = prev\n",
        "            prev = curr\n",
        "            curr = next\n",
        "        self.head = prev\n",
        "        \n",
        "    def countLL(self):\n",
        "        n = self.head\n",
        "        count = 0\n",
        "        \n",
        "        while (n):\n",
        "            count +=1\n",
        "            n = n.next\n",
        "        return count\n",
        "        \n",
        "    \n",
        "    \n",
        "\n"
      ]
    },
    {
      "cell_type": "code",
      "execution_count": 21,
      "metadata": {},
      "outputs": [
        {
          "name": "stdout",
          "output_type": "stream",
          "text": [
            "10\n",
            "20\n",
            "30\n"
          ]
        }
      ],
      "source": [
        "obj = LinkedList()\n",
        "obj.add_begin(10)\n",
        "obj.add_end(20)\n",
        "obj.add_end(30)\n",
        "obj.printLL()"
      ]
    },
    {
      "cell_type": "code",
      "execution_count": 22,
      "metadata": {},
      "outputs": [
        {
          "name": "stdout",
          "output_type": "stream",
          "text": [
            "30\n",
            "20\n",
            "10\n"
          ]
        }
      ],
      "source": [
        "obj.reverse_LL()\n",
        "obj.printLL()"
      ]
    },
    {
      "cell_type": "code",
      "execution_count": 23,
      "metadata": {},
      "outputs": [
        {
          "data": {
            "text/plain": [
              "3"
            ]
          },
          "execution_count": 23,
          "metadata": {},
          "output_type": "execute_result"
        }
      ],
      "source": [
        "obj.countLL()"
      ]
    },
    {
      "cell_type": "code",
      "execution_count": null,
      "metadata": {},
      "outputs": [],
      "source": []
    }
  ],
  "metadata": {
    "colab": {
      "authorship_tag": "ABX9TyP93yqnsjM/bGJQRvSCp1RS",
      "include_colab_link": true,
      "name": "Linked_List.ipynb",
      "provenance": []
    },
    "kernelspec": {
      "display_name": "Python 3.8.8 ('base')",
      "language": "python",
      "name": "python3"
    },
    "language_info": {
      "codemirror_mode": {
        "name": "ipython",
        "version": 3
      },
      "file_extension": ".py",
      "mimetype": "text/x-python",
      "name": "python",
      "nbconvert_exporter": "python",
      "pygments_lexer": "ipython3",
      "version": "3.8.8"
    },
    "vscode": {
      "interpreter": {
        "hash": "6854ea8ff5a79f7e4718b9fbdf74d22809e414484d0c695c5bccf0455375b9ad"
      }
    }
  },
  "nbformat": 4,
  "nbformat_minor": 2
}
