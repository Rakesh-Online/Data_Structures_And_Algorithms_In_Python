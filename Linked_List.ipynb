{
  "nbformat": 4,
  "nbformat_minor": 2,
  "metadata": {
    "colab": {
      "name": "Linked_List.ipynb",
      "provenance": [],
      "authorship_tag": "ABX9TyP93yqnsjM/bGJQRvSCp1RS",
      "include_colab_link": true
    },
    "kernelspec": {
      "name": "python3",
      "display_name": "Python 3.8.8 64-bit"
    },
    "language_info": {
      "name": "python",
      "version": "3.8.8",
      "mimetype": "text/x-python",
      "codemirror_mode": {
        "name": "ipython",
        "version": 3
      },
      "pygments_lexer": "ipython3",
      "nbconvert_exporter": "python",
      "file_extension": ".py"
    },
    "interpreter": {
      "hash": "b7ed8357a5dc9c98a1e226fca3be95e523e1220fce720ca03ea8747424ff41c1"
    }
  },
  "cells": [
    {
      "cell_type": "markdown",
      "source": [
        "<a href=\"https://colab.research.google.com/github/Rakesh-Online/Data_Structures_Python/blob/main/Linked_List.ipynb\" target=\"_parent\"><img src=\"https://colab.research.google.com/assets/colab-badge.svg\" alt=\"Open In Colab\"/></a>"
      ],
      "metadata": {
        "id": "view-in-github",
        "colab_type": "text"
      }
    },
    {
      "cell_type": "code",
      "execution_count": null,
      "source": [
        "#Traversing a Linked List"
      ],
      "outputs": [],
      "metadata": {
        "id": "k24bkbfn279E"
      }
    },
    {
      "cell_type": "code",
      "execution_count": null,
      "source": [
        "# Node class\r\n",
        "class node:\r\n",
        "  # Function to initialize the node object\r\n",
        "  def __init__(self,data):\r\n",
        "    self.data = data\r\n",
        "    self.ref = None\r\n",
        "\r\n",
        "# Linked List class  \r\n",
        "class LinkedList:\r\n",
        "  def __init__(self):\r\n",
        "    self.head = None\r\n",
        "\r\n",
        "  #This function traverse contents of linked list\r\n",
        "  def print_LL(self):\r\n",
        "    if self.head is None:\r\n",
        "      print(\"Linked List Is Empty\")\r\n",
        "    else:\r\n",
        "      n = self.head\r\n",
        "      while n is not None:\r\n",
        "        print(n.data)\r\n",
        "        n = n.ref\r\n"
      ],
      "outputs": [],
      "metadata": {
        "id": "I3EyTt43wV1-"
      }
    },
    {
      "cell_type": "code",
      "execution_count": null,
      "source": [
        "# Start with the empty list\r\n",
        "obj = LinkedList()\r\n",
        "\r\n",
        "#creating 3 nodes \r\n",
        "obj.head = node(\"10\")\r\n",
        "obj1 = node(\"20\")\r\n",
        "obj2 = node(\"30\")\r\n",
        "\r\n",
        "# Link first node with second\r\n",
        "obj.head.ref = obj1\r\n",
        "\r\n",
        "# Link second node with the third node\r\n",
        "obj1.ref= obj2\r\n",
        "\r\n",
        "\r\n",
        "obj.print_LL()"
      ],
      "outputs": [
        {
          "output_type": "stream",
          "name": "stdout",
          "text": [
            "10\n",
            "20\n",
            "30\n"
          ]
        }
      ],
      "metadata": {
        "colab": {
          "base_uri": "https://localhost:8080/"
        },
        "id": "HAD5aufm2Z36",
        "outputId": "a42b39aa-a274-4ae3-c8e6-be58fccb9e1e"
      }
    },
    {
      "cell_type": "code",
      "execution_count": null,
      "source": [
        "#insert element at begining of Linked List"
      ],
      "outputs": [],
      "metadata": {
        "id": "ykYyaOKLG0vz"
      }
    },
    {
      "cell_type": "code",
      "execution_count": null,
      "source": [
        "# Node class\r\n",
        "class node:\r\n",
        "  def __init__(self,data):\r\n",
        "    self.data = data\r\n",
        "    self.ref = None\r\n",
        "    \r\n",
        "# Linked List class  \r\n",
        "class LinkedList:\r\n",
        "  def __init__(self):\r\n",
        "    self.head = None\r\n",
        "\r\n",
        "  #This function traverse contents of linked list\r\n",
        "  def print_LL(self):\r\n",
        "    if self.head is None:\r\n",
        "      print(\"Linked List Is Empty\")\r\n",
        "    else:\r\n",
        "      n = self.head\r\n",
        "      while n is not None:\r\n",
        "        print(n.data)\r\n",
        "        n = n.ref\r\n",
        "\r\n",
        "  #Function to insert a new node at the beginning\r\n",
        "  def add_begin(self, data):\r\n",
        "    new_node = node(data)\r\n",
        "    #Make next of new Node as head\r\n",
        "    new_node.ref = self.head\r\n",
        "    #Move the head to point to new Node\r\n",
        "    self.head = new_node"
      ],
      "outputs": [],
      "metadata": {
        "id": "D5kGwo4k2mTr"
      }
    },
    {
      "cell_type": "code",
      "execution_count": null,
      "source": [
        "obj = LinkedList()\r\n",
        "obj.add_begin(10)\r\n",
        "obj.add_begin(20)\r\n",
        "obj.add_begin(30)\r\n",
        "obj.print_LL()"
      ],
      "outputs": [
        {
          "output_type": "stream",
          "name": "stdout",
          "text": [
            "30\n",
            "20\n",
            "10\n"
          ]
        }
      ],
      "metadata": {
        "colab": {
          "base_uri": "https://localhost:8080/"
        },
        "id": "xyPI0yC5HXEn",
        "outputId": "75a87584-bd22-49cb-bab1-a92f1dac680f"
      }
    },
    {
      "cell_type": "code",
      "execution_count": null,
      "source": [
        "# Add and element at end of Linked List"
      ],
      "outputs": [],
      "metadata": {
        "id": "YRalPGsZMHmj"
      }
    },
    {
      "cell_type": "code",
      "execution_count": null,
      "source": [
        "class node:\r\n",
        "  def __init__(self,data):\r\n",
        "    self.data =  data\r\n",
        "    self.ref = None\r\n",
        "  \r\n",
        "class LinkedList:\r\n",
        "  def __init__(self):\r\n",
        "    self.head = None\r\n",
        "\r\n",
        "  def print_LL(self):\r\n",
        "    if self.head is None:\r\n",
        "      print(\"Linked List is empty\")\r\n",
        "    else:\r\n",
        "      n = self.head\r\n",
        "      while n is not None:\r\n",
        "        print(n.data)\r\n",
        "        n = n.ref\r\n",
        "  #Function to insert a new node at the beginning\r\n",
        "  def add_begin(self,data):\r\n",
        "    new_node = node(data)\r\n",
        "    #Make next of new Node as head\r\n",
        "    new_node.ref = self.head\r\n",
        "    #Move the head to point to new Node\r\n",
        "    self.head = new_node\r\n",
        "\r\n",
        "  #Function to insert a new node at the end\r\n",
        "  def add_end(self,data):\r\n",
        "    new_node =node(data)\r\n",
        "    if self.head is None:\r\n",
        "      print(\"LinkedList is empty\")\r\n",
        "    else:\r\n",
        "      n = self.head\r\n",
        "      while n.ref is not None:\r\n",
        "        n = n.ref\r\n",
        "      n.ref = new_node"
      ],
      "outputs": [],
      "metadata": {
        "id": "Oi5bzaZ7HmQW"
      }
    },
    {
      "cell_type": "code",
      "execution_count": null,
      "source": [
        "class node:\r\n",
        "  def __init__(self,data):\r\n",
        "    self.data =  data\r\n",
        "    self.ref = None\r\n",
        "  \r\n",
        "class LinkedList:\r\n",
        "  def __init__(self):\r\n",
        "    self.head = None\r\n",
        "\r\n",
        "  def print_LL(self):\r\n",
        "    if self.head is None:\r\n",
        "      print(\"Linked List is empty\")\r\n",
        "    else:\r\n",
        "      n = self.head\r\n",
        "      while n is not None:\r\n",
        "        print(n.data)\r\n",
        "        n = n.ref\r\n",
        "  #Function to insert a new node at the beginning\r\n",
        "  def add_begin(self,data):\r\n",
        "    new_node = node(data)\r\n",
        "    #Make next of new Node as head\r\n",
        "    new_node.ref = self.head\r\n",
        "    #Move the head to point to new Node\r\n",
        "    self.head = new_node\r\n",
        "\r\n",
        "  #Function to insert a new node at the end\r\n",
        "  def add_end(self,data):\r\n",
        "    new_node =node(data)\r\n",
        "    if self.head is None:\r\n",
        "      print(\"LinkedList is empty\")\r\n",
        "    else:\r\n",
        "      n = self.head\r\n",
        "      while n.ref is not None:\r\n",
        "        n = n.ref\r\n",
        "      n.ref = new_node"
      ],
      "outputs": [],
      "metadata": {}
    },
    {
      "cell_type": "code",
      "execution_count": null,
      "source": [
        "a = LinkedList()\r\n",
        "a.add_begin(10)\r\n",
        "a.add_end(100)\r\n",
        "a.print_LL()"
      ],
      "outputs": [
        {
          "output_type": "stream",
          "name": "stdout",
          "text": [
            "10\n",
            "100\n"
          ]
        }
      ],
      "metadata": {
        "colab": {
          "base_uri": "https://localhost:8080/"
        },
        "id": "wFpnrfoNLUjS",
        "outputId": "3d575d85-1763-4e7d-d9e0-af3632dedea4"
      }
    },
    {
      "cell_type": "code",
      "execution_count": null,
      "source": [
        "#Node class\r\n",
        "class node:\r\n",
        "  def __init__(self,data):\r\n",
        "    self.data =  data\r\n",
        "    self.ref = None\r\n",
        "\r\n",
        "# Linked List class\r\n",
        "class LinkedList:\r\n",
        "  def __init__(self):\r\n",
        "    self.head = None\r\n",
        "\r\n",
        "  #This function traverse contents of linked list\r\n",
        "  def print_LL(self):\r\n",
        "    if self.head is None:\r\n",
        "      print(\"Linked List is empty\")\r\n",
        "    else:\r\n",
        "      n = self.head\r\n",
        "      while n is not None:\r\n",
        "        print(n.data)\r\n",
        "        n = n.ref\r\n",
        "\r\n",
        "  #Function to insert a new node at the end\r\n",
        "  def add_end(self,data):\r\n",
        "    new_node =node(data)\r\n",
        "    if self.head is None:\r\n",
        "      print(\"LinkedList is empty\")\r\n",
        "    else:\r\n",
        "      n = self.head\r\n",
        "      #traverse till the last node\r\n",
        "      while n.ref is not None:\r\n",
        "        n = n.ref\r\n",
        "      #Change the next of last node\r\n",
        "      n.ref = new_node"
      ],
      "outputs": [],
      "metadata": {}
    },
    {
      "cell_type": "code",
      "execution_count": null,
      "source": [
        "#add after "
      ],
      "outputs": [],
      "metadata": {
        "id": "B_5C4I-o3hrQ"
      }
    },
    {
      "cell_type": "code",
      "execution_count": null,
      "source": [
        "class node:\r\n",
        "\r\n",
        "  def __init__(self,data):\r\n",
        "    self.data = data\r\n",
        "    self.ref = None\r\n",
        "\r\n",
        "class LinkedList:\r\n",
        "\r\n",
        "  def __init__(self):\r\n",
        "    self.head = None\r\n",
        "\r\n",
        "  def print_LL(self):\r\n",
        "    if self.head is None:\r\n",
        "      print(\"Linked list is empty\")\r\n",
        "    else:\r\n",
        "      n = self.head\r\n",
        "      while n is not None:\r\n",
        "        print(n.data)\r\n",
        "        n = n.ref\r\n",
        "\r\n",
        "  def add_begin(self, data):\r\n",
        "    new_node = node(data)\r\n",
        "    new_node.ref = self.head\r\n",
        "    self.head = new_node\r\n",
        "\r\n",
        "  def add_end(self, data):\r\n",
        "    new_node = node(data)\r\n",
        "    if self.head is None:\r\n",
        "      print(\"Linked List is empty\")\r\n",
        "    else:\r\n",
        "      n = self.head\r\n",
        "      while n.ref is not None:\r\n",
        "        n = n.ref\r\n",
        "      n.ref = new_node\r\n",
        "\r\n",
        "  def add_after(self,prev_node, new_data):\r\n",
        "      n = self.head\r\n",
        "      #traverse till the prev_node \r\n",
        "      while n is not None:\r\n",
        "          if prev_node==n.data:\r\n",
        "              break\r\n",
        "          n = n.ref\r\n",
        "      if n is None:\r\n",
        "         print(\"node is not present in LL\")\r\n",
        "      else:\r\n",
        "         new_node = node(new_data)\r\n",
        "         new_node.ref = n.ref\r\n",
        "         n.ref = new_node\r\n"
      ],
      "outputs": [],
      "metadata": {
        "id": "Rk6AjB9fLd7v"
      }
    },
    {
      "cell_type": "code",
      "execution_count": null,
      "source": [
        "class node:\r\n",
        "  def __init__(self,data):\r\n",
        "    self.data = data\r\n",
        "    self.ref = None\r\n",
        "\r\n",
        "class LinkedList:\r\n",
        "  def __init__(self):\r\n",
        "    self.head = None\r\n",
        "\r\n",
        "  def print_LL(self):\r\n",
        "    if self.head is None:\r\n",
        "      print(\"Linked list is empty\")\r\n",
        "    else:\r\n",
        "      n = self.head\r\n",
        "      while n is not None:\r\n",
        "        print(n.data)\r\n",
        "        n = n.ref\r\n",
        "\r\n",
        "  def add_after(self,prev_node, new_data):\r\n",
        "      n = self.head\r\n",
        "      #traverse till the prev_node \r\n",
        "      while n is not None:\r\n",
        "          if prev_node==n.data:\r\n",
        "              break\r\n",
        "          n = n.ref\r\n",
        "      if n is None:\r\n",
        "         print(\"node is not present in LL\")\r\n",
        "      else:\r\n",
        "         new_node = node(new_data)\r\n",
        "         new_node.ref = n.ref\r\n",
        "         #Change the next of last node\r\n",
        "         n.ref = new_node"
      ],
      "outputs": [],
      "metadata": {}
    },
    {
      "cell_type": "code",
      "execution_count": null,
      "source": [
        "a = LinkedList()\r\n",
        "a.add_begin(10)\r\n",
        "a.add_begin(20)\r\n",
        "a.add_after(30,20)\r\n",
        "a.print_LL()"
      ],
      "outputs": [
        {
          "output_type": "stream",
          "name": "stdout",
          "text": [
            "20\n",
            "30\n",
            "10\n"
          ]
        }
      ],
      "metadata": {
        "colab": {
          "base_uri": "https://localhost:8080/"
        },
        "id": "iNyVDZ41Sjm4",
        "outputId": "93f92169-a4ee-4f3d-8406-d24fd1ef33df"
      }
    },
    {
      "cell_type": "code",
      "execution_count": null,
      "source": [
        "# add_before insertion"
      ],
      "outputs": [],
      "metadata": {
        "id": "p0B0jaa_46yW"
      }
    },
    {
      "cell_type": "code",
      "execution_count": null,
      "source": [
        "class node:\r\n",
        "\r\n",
        "  def __init__(self, data):\r\n",
        "    self.data = data \r\n",
        "    self.node = None\r\n",
        "\r\n",
        "class LinkedList:\r\n",
        "\r\n",
        "  def __init__(self):\r\n",
        "    self.head = None\r\n",
        "\r\n",
        "  def print_LL(self):\r\n",
        "    if self.head is None:\r\n",
        "      print(\"Linked list is empty\")\r\n",
        "    else:\r\n",
        "      n = self.head\r\n",
        "      while n is not None:\r\n",
        "        print(n.data)\r\n",
        "        n = n.ref\r\n",
        "\r\n",
        "  def add_begin(self,data):\r\n",
        "    new_node = node(data)\r\n",
        "    new_node.ref = self.head\r\n",
        "    self.head = new_node\r\n",
        "\r\n",
        "  def add_end(self,data):\r\n",
        "    new_node = node(data)\r\n",
        "    if self.head is None:\r\n",
        "      print(\"Linked List is empty\")\r\n",
        "    else:\r\n",
        "      n = self.head\r\n",
        "      while n.ref is not None:\r\n",
        "        n = n.ref\r\n",
        "      n.ref = new_node\r\n",
        "\r\n",
        "  def add_after(self,data,x):\r\n",
        "    n = self.head\r\n",
        "    while n is not None:\r\n",
        "      if x==n.data:\r\n",
        "        break\r\n",
        "      n = n.ref\r\n",
        "    if n is None:\r\n",
        "      print(\"Node is not present\")\r\n",
        "    else:\r\n",
        "      new_node = node(data)\r\n",
        "      new_node.ref = n.ref\r\n",
        "      n.ref = new_node\r\n",
        "\r\n",
        "  def add_before(self,data,x):\r\n",
        "    if self.head is None:\r\n",
        "      print(\"Linked List is empty\")\r\n",
        "      return\r\n",
        "    if self.head.data ==x:\r\n",
        "      new_node = node(data)\r\n",
        "      new_node.ref = self.head\r\n",
        "      self.head = new_node\r\n",
        "      return\r\n",
        "    n = self.head\r\n",
        "    while n is not None:\r\n",
        "      if n.ref.data ==x:\r\n",
        "        break\r\n",
        "      n = n.ref\r\n",
        "    if n is None:\r\n",
        "      print(\"Node is not present\")\r\n",
        "    else:\r\n",
        "      new_node = node(data)\r\n",
        "      new_node.ref = n.ref\r\n",
        "      n.ref = new_node"
      ],
      "outputs": [],
      "metadata": {
        "id": "ffYeVY1pS5UQ"
      }
    },
    {
      "cell_type": "code",
      "execution_count": null,
      "source": [
        "ob = LinkedList()\r\n",
        "ob.add_begin(20)\r\n",
        "ob.add_begin(10)\r\n",
        "ob.add_before(30,20)\r\n",
        "ob.print_LL()"
      ],
      "outputs": [
        {
          "output_type": "stream",
          "name": "stdout",
          "text": [
            "10\n",
            "30\n",
            "20\n"
          ]
        }
      ],
      "metadata": {
        "id": "dVVySOBFFcHi",
        "colab": {
          "base_uri": "https://localhost:8080/"
        },
        "outputId": "71081544-8a8b-498b-9280-197f9c8c25b8"
      }
    },
    {
      "cell_type": "code",
      "execution_count": 10,
      "source": [
        "# Node class\r\n",
        "class node:\r\n",
        "  def __init__(self, data):\r\n",
        "    self.data = data \r\n",
        "    self.node = None\r\n",
        "\r\n",
        "# Linked List class\r\n",
        "class LinkedList:\r\n",
        "  def __init__(self):\r\n",
        "    self.head = None\r\n",
        "\r\n",
        "  #This function traverse contents of linked list\r\n",
        "  def print_LL(self):\r\n",
        "    if self.head is None:\r\n",
        "      print(\"Linked list is empty\")\r\n",
        "    else:\r\n",
        "      n = self.head\r\n",
        "      while n is not None:\r\n",
        "        print(n.data)\r\n",
        "        n = n.ref\r\n",
        "\r\n",
        "  def add_before(self,given_node,newdata):\r\n",
        "    if self.head is None:\r\n",
        "      print(\"Linked List is empty\")\r\n",
        "      return\r\n",
        "      \r\n",
        "    if self.head.data ==given_node:\r\n",
        "      new_node = node(newdata)\r\n",
        "      new_node.ref = self.head\r\n",
        "      self.head = new_node\r\n",
        "      return\r\n",
        "    n = self.head\r\n",
        "    while n is not None:\r\n",
        "      if n.ref.data ==given_node:\r\n",
        "        break\r\n",
        "      n = n.ref\r\n",
        "    if n is None:\r\n",
        "      print(\"Node is not present\")\r\n",
        "    else:\r\n",
        "      new_node = node(newdata)\r\n",
        "      new_node.ref = n.ref\r\n",
        "      n.ref = new_node"
      ],
      "outputs": [],
      "metadata": {}
    },
    {
      "cell_type": "code",
      "execution_count": 12,
      "source": [
        "ob = LinkedList()\r\n",
        "\r\n",
        "ob.add_begin(10)\r\n",
        "ob.add_end(20)\r\n",
        "ob.add_before(20,30)\r\n",
        "ob.print_LL()"
      ],
      "outputs": [
        {
          "output_type": "stream",
          "name": "stdout",
          "text": [
            "10\n",
            "30\n",
            "20\n"
          ]
        }
      ],
      "metadata": {}
    },
    {
      "cell_type": "code",
      "execution_count": null,
      "source": [
        "#insert node to empty linked list"
      ],
      "outputs": [],
      "metadata": {
        "id": "OTpphPQ1GXC1"
      }
    },
    {
      "cell_type": "code",
      "execution_count": null,
      "source": [
        "class node:\r\n",
        "\r\n",
        "  def __init__(self, data):\r\n",
        "    self.data = data \r\n",
        "    self.node = None\r\n",
        "\r\n",
        "class LinkedList:\r\n",
        "\r\n",
        "  def __init__(self):\r\n",
        "    self.head = None\r\n",
        "\r\n",
        "  def print_LL(self):\r\n",
        "    if self.head is None:\r\n",
        "      print(\"Linked list is empty\")\r\n",
        "    else:\r\n",
        "      n = self.head\r\n",
        "    while n is not None:\r\n",
        "      print(n.data)\r\n",
        "    n = n.ref\r\n",
        "\r\n",
        "  def add_begin(self,data):\r\n",
        "    new_node = node(data)\r\n",
        "    new_node.ref = self.head\r\n",
        "    self.head = new_node\r\n",
        "\r\n",
        "  def add_end(self,data):\r\n",
        "    new_node = node(data)\r\n",
        "    if self.head is None:\r\n",
        "      print(\"Linked List is empty\")\r\n",
        "    else:\r\n",
        "      n = self.head\r\n",
        "      while n.ref is not None:\r\n",
        "        n = n.ref\r\n",
        "        n.ref = new_node\r\n",
        "\r\n",
        "  def add_after(self,data,x):\r\n",
        "    n = self.head\r\n",
        "    while n is not None:\r\n",
        "      if x==n.data:\r\n",
        "        break\r\n",
        "      n = n.ref\r\n",
        "    if n is None:\r\n",
        "      print(\"Node is not present\")\r\n",
        "    else:\r\n",
        "      new_node = node(data)\r\n",
        "      new_node.ref = n.ref\r\n",
        "      n.ref = new_node\r\n",
        "\r\n",
        "  def add_before(self,data,x):\r\n",
        "    if self.head is None:\r\n",
        "      print(\"Linked List is empty\")\r\n",
        "      return\r\n",
        "    if self.head.data ==x:\r\n",
        "      new_node = node(data)\r\n",
        "      new_node.ref = self.head\r\n",
        "      self.head = new_node\r\n",
        "      return\r\n",
        "    n = self.head\r\n",
        "    while n is not None:\r\n",
        "      if n.ref.data ==x:\r\n",
        "        break\r\n",
        "      n = n.ref\r\n",
        "    if n is None:\r\n",
        "      print(\"Node is not present\")\r\n",
        "    else:\r\n",
        "      new_node = node(data)\r\n",
        "      new_node.ref = n.ref\r\n",
        "      n.ref = new_node\r\n",
        "\r\n",
        "  def insert_empty(self, data):\r\n",
        "    if self.head is None:\r\n",
        "      new_node = node(data)\r\n",
        "      self.head = new_node\r\n",
        "    else:\r\n",
        "      print(\"Linked list is not empty\")"
      ],
      "outputs": [],
      "metadata": {
        "id": "AMVcIhItFkH2"
      }
    },
    {
      "cell_type": "code",
      "execution_count": null,
      "source": [
        "a = LinkedList()\r\n",
        "a.insert_empty(10)\r\n",
        "a.insert_empty(20)"
      ],
      "outputs": [
        {
          "output_type": "stream",
          "name": "stdout",
          "text": [
            "Linked list is not empty\n"
          ]
        }
      ],
      "metadata": {
        "id": "_AJRCEjeGd4F",
        "colab": {
          "base_uri": "https://localhost:8080/"
        },
        "outputId": "80f33106-97fb-418a-ee7d-92b03a85ec5a"
      }
    },
    {
      "cell_type": "code",
      "execution_count": null,
      "source": [
        "class node:\r\n",
        "\r\n",
        "  def __init__(self,data):\r\n",
        "    self.data = data\r\n",
        "    self.ref = None\r\n",
        "class LinkedList:\r\n",
        "\r\n",
        "  def __init__(self):\r\n",
        "    self.head = None\r\n",
        "\r\n",
        "  def print_LL(self):\r\n",
        "    if self.head is None:\r\n",
        "      print(\"Linked List is Empty\")\r\n",
        "    else:\r\n",
        "      n = self.head\r\n",
        "      while n is not None:\r\n",
        "        print(n.data)\r\n",
        "        n = n.ref\r\n",
        "\r\n",
        "  def add_begin(self, data):\r\n",
        "    new_node = node(data)\r\n",
        "    new_node.ref = self.head\r\n",
        "    self.head = new_node\r\n",
        "\r\n",
        "  def add_end(self, data):\r\n",
        "    new_node = node(data)\r\n",
        "    if self.head is None:\r\n",
        "      print(\"Linked List is Empty\")\r\n",
        "    else:\r\n",
        "      n = self.head\r\n",
        "      while n.ref is not None:\r\n",
        "        n = n.ref\r\n",
        "      n.ref = new_node\r\n",
        "      \r\n",
        "  def add_after(self,data, x):\r\n",
        "    n = self.head\r\n",
        "    while n is not None:\r\n",
        "      if x==n.data:\r\n",
        "        break\r\n",
        "      n = n.ref\r\n",
        "    if n is None:\r\n",
        "      print(\"Node is not present\")\r\n",
        "    else:\r\n",
        "      new_node = node(data)\r\n",
        "      new_node.ref = n.ref \r\n",
        "      n.ref = new_node\r\n",
        "  def add_before(self,data,x):\r\n",
        "    if self.head is None:\r\n",
        "      print(\"Linked List is empty\")\r\n",
        "    if self.head.data ==x:\r\n",
        "      new_node = node(data)\r\n",
        "      new_node.ref = self.head\r\n",
        "      self.head = new_node\r\n",
        "      return\r\n",
        "    n = self.head\r\n",
        "    while n is not None:\r\n",
        "      if n.ref.data ==x:\r\n",
        "        break\r\n",
        "      n = n.ref\r\n",
        "    if n is None:\r\n",
        "      print(\"node is not present\")\r\n",
        "    else:\r\n",
        "      new_node = node(data)\r\n",
        "      new_node.ref = n.ref\r\n",
        "      n.ref = new_node\r\n",
        "\r\n",
        "  def insert_empty(self,data):\r\n",
        "    if self.head is None:\r\n",
        "      new_node = node(data)\r\n",
        "      self.head = new_node\r\n",
        "    else:\r\n",
        "      print(\"Linked List is not empty\")\r\n",
        "\r\n",
        "      \r\n",
        "  def delete_begin(self):\r\n",
        "    if self.head is None:\r\n",
        "      print(\"Linked List is empty\")\r\n",
        "    else:\r\n",
        "      self.head = self.head.ref\r\n"
      ],
      "outputs": [],
      "metadata": {
        "id": "c7b_2PgQGnHv"
      }
    },
    {
      "cell_type": "code",
      "execution_count": null,
      "source": [],
      "outputs": [],
      "metadata": {}
    },
    {
      "cell_type": "code",
      "execution_count": null,
      "source": [
        "b = LinkedList()\r\n",
        "b.add_begin(10)\r\n",
        "b.add_begin(20)\r\n",
        "b.add_begin(30)"
      ],
      "outputs": [],
      "metadata": {
        "id": "oVK8Uy2SLKgj"
      }
    },
    {
      "cell_type": "code",
      "execution_count": null,
      "source": [
        "b.delete_begin()\r\n",
        "b.print_LL()"
      ],
      "outputs": [
        {
          "output_type": "stream",
          "name": "stdout",
          "text": [
            "20\n",
            "10\n"
          ]
        }
      ],
      "metadata": {
        "colab": {
          "base_uri": "https://localhost:8080/"
        },
        "id": "BQSvq8x-Lcri",
        "outputId": "c4931c36-b018-42f9-a12f-d9d0e87ed981"
      }
    },
    {
      "cell_type": "code",
      "execution_count": null,
      "source": [
        "class node:\r\n",
        "\r\n",
        "  def __init__(self,data):\r\n",
        "    self.data = data\r\n",
        "    self.ref = None\r\n",
        "class LinkedList:\r\n",
        "\r\n",
        "  def __init__(self):\r\n",
        "    self.head = None\r\n",
        "\r\n",
        "  def print_LL(self):\r\n",
        "    if self.head is None:\r\n",
        "      print(\"Linked List is Empty\")\r\n",
        "    else:\r\n",
        "      n = self.head\r\n",
        "      while n is not None:\r\n",
        "        print(n.data)\r\n",
        "        n = n.ref\r\n",
        "\r\n",
        "  def add_begin(self, data):\r\n",
        "    new_node = node(data)\r\n",
        "    new_node.ref = self.head\r\n",
        "    self.head = new_node\r\n",
        "\r\n",
        "  def add_end(self, data):\r\n",
        "    new_node = node(data)\r\n",
        "    if self.head is None:\r\n",
        "      print(\"Linked List is Empty\")\r\n",
        "    else:\r\n",
        "      n = self.head\r\n",
        "      while n.ref is not None:\r\n",
        "        n = n.ref\r\n",
        "      n.ref = new_node\r\n",
        "      \r\n",
        "  #delete the first node\r\n",
        "  def delete_begin(self):\r\n",
        "    if self.head is None:\r\n",
        "      print(\"Linked List is empty\")\r\n",
        "    else:\r\n",
        "      self.head = self.head.ref\r\n"
      ],
      "outputs": [],
      "metadata": {}
    },
    {
      "cell_type": "code",
      "execution_count": null,
      "source": [
        "#delete end node"
      ],
      "outputs": [],
      "metadata": {
        "id": "P6H_jOR-ZS-w"
      }
    },
    {
      "cell_type": "code",
      "execution_count": 2,
      "source": [
        "class node:\r\n",
        "  def __init__(self, data):\r\n",
        "    self.data = data\r\n",
        "    self.ref = None\r\n",
        "class LinkedList:\r\n",
        "  def __init__(self):\r\n",
        "    self.head = None\r\n",
        "\r\n",
        "  def printLL(self):\r\n",
        "    if self.head is None:\r\n",
        "      print(\"LL is empyty\")\r\n",
        "    else:\r\n",
        "      n = self.head\r\n",
        "      while n is not None:\r\n",
        "        print(n.data)\r\n",
        "        n = n.ref\r\n",
        "  def add_begin(self,data):\r\n",
        "    new_node = node(data)\r\n",
        "    new_node.ref = self.head\r\n",
        "    self.head = new_node\r\n",
        "\r\n",
        "  def add_end(self, data):\r\n",
        "    new_node = node(data)\r\n",
        "    if self.head is None:\r\n",
        "      print(\"LL is empty\")\r\n",
        "    else:\r\n",
        "      n = self.head\r\n",
        "      while n is not None:\r\n",
        "        n = n.ref\r\n",
        "      n.ref = new_node\r\n",
        "  def add_after(self,data, x):\r\n",
        "    n = self.head\r\n",
        "    while n is not None:\r\n",
        "      if x==n.data:\r\n",
        "        break\r\n",
        "      n = n.ref\r\n",
        "    if n is None:\r\n",
        "      print(\"Node is not present\")\r\n",
        "    else:\r\n",
        "      new_node = node(data)\r\n",
        "      new_node.ref = n.ref \r\n",
        "      n.ref = new_node\r\n",
        "  def add_before(self,data,x):\r\n",
        "    if self.head is None:\r\n",
        "      print(\"Linked List is empty\")\r\n",
        "    if self.head.data ==x:\r\n",
        "      new_node = node(data)\r\n",
        "      new_node.ref = self.head\r\n",
        "      self.head = new_node\r\n",
        "      return\r\n",
        "    n = self.head\r\n",
        "    while n is not None:\r\n",
        "      if n.ref.data ==x:\r\n",
        "        break\r\n",
        "      n = n.ref\r\n",
        "    if n is None:\r\n",
        "      print(\"node is not present\")\r\n",
        "    else:\r\n",
        "      new_node = node(data)\r\n",
        "      new_node.ref = n.ref\r\n",
        "      n.ref = new_node\r\n",
        "\r\n",
        "  def insert_empty(self,data):\r\n",
        "    if self.head is None:\r\n",
        "      new_node = node(data)\r\n",
        "      self.head = new_node\r\n",
        "    else:\r\n",
        "      print(\"Linked List is not empty\")\r\n",
        "  def delete_begin(self):\r\n",
        "    if self.head is None:\r\n",
        "      print(\"Linked List is empty\")\r\n",
        "    else:\r\n",
        "      self.head = self.head.ref\r\n",
        "  def delete_end(self):\r\n",
        "    if self.head is None:\r\n",
        "      print(\"LL is empty\")\r\n",
        "    else:\r\n",
        "      n = self.head\r\n",
        "      while n.ref.ref is not None:\r\n",
        "        n = n.ref \r\n",
        "      n.ref = None\r\n",
        "      "
      ],
      "outputs": [],
      "metadata": {
        "id": "5FJe4rHHL19o"
      }
    },
    {
      "cell_type": "code",
      "execution_count": 6,
      "source": [
        "a = LinkedList()\r\n",
        "a.add_begin(10)\r\n",
        "a.add_begin(30)\r\n",
        "a.add_begin(20)\r\n",
        "a.add_begin(40)\r\n",
        "a.printLL()\r\n",
        "print(\"----------------\")\r\n",
        "a.delete_end()\r\n",
        "a.printLL()"
      ],
      "outputs": [
        {
          "output_type": "stream",
          "name": "stdout",
          "text": [
            "40\n",
            "20\n",
            "30\n",
            "10\n",
            "----------------\n",
            "40\n",
            "20\n",
            "30\n"
          ]
        }
      ],
      "metadata": {
        "id": "91ggVWXfYgFT",
        "outputId": "71836530-7b3d-40c4-e89b-9302579b0994",
        "colab": {
          "base_uri": "https://localhost:8080/"
        }
      }
    },
    {
      "cell_type": "code",
      "execution_count": null,
      "source": [],
      "outputs": [],
      "metadata": {
        "id": "l1y5EntSY4of"
      }
    }
  ]
}