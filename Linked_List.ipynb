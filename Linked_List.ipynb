{
  "nbformat": 4,
  "nbformat_minor": 0,
  "metadata": {
    "colab": {
      "name": "Linked_List.ipynb",
      "provenance": [],
      "authorship_tag": "ABX9TyM1Hw8k57nLA+ducyLHQqU2",
      "include_colab_link": true
    },
    "kernelspec": {
      "name": "python3",
      "display_name": "Python 3"
    },
    "language_info": {
      "name": "python"
    }
  },
  "cells": [
    {
      "cell_type": "markdown",
      "metadata": {
        "id": "view-in-github",
        "colab_type": "text"
      },
      "source": [
        "<a href=\"https://colab.research.google.com/github/Rakesh-Online/Data_Structures_Python/blob/main/Linked_List.ipynb\" target=\"_parent\"><img src=\"https://colab.research.google.com/assets/colab-badge.svg\" alt=\"Open In Colab\"/></a>"
      ]
    },
    {
      "cell_type": "code",
      "metadata": {
        "id": "k24bkbfn279E"
      },
      "source": [
        "#Traversing a Linked List"
      ],
      "execution_count": null,
      "outputs": []
    },
    {
      "cell_type": "code",
      "metadata": {
        "id": "I3EyTt43wV1-"
      },
      "source": [
        "class node:\n",
        "  def __init__(self,data):\n",
        "    self.data = data\n",
        "    self.ref = None\n",
        "  \n",
        "class LinkedList:\n",
        "  def __init__(self):\n",
        "    self.head = None\n",
        "\n",
        "  def print_LL(self):\n",
        "    if self.head is None:\n",
        "      print(\"Linked List Is Empty\")\n",
        "    else:\n",
        "      n = self.head\n",
        "      while n is not None:\n",
        "        print(n.data)\n",
        "        n = n.ref\n"
      ],
      "execution_count": 1,
      "outputs": []
    },
    {
      "cell_type": "code",
      "metadata": {
        "colab": {
          "base_uri": "https://localhost:8080/"
        },
        "id": "HAD5aufm2Z36",
        "outputId": "a42b39aa-a274-4ae3-c8e6-be58fccb9e1e"
      },
      "source": [
        "obj = LinkedList()\n",
        "obj.head = node(\"10\")\n",
        "obj1 = node(\"20\")\n",
        "obj2 = node(\"30\")\n",
        "\n",
        "obj.head.ref = obj1\n",
        "\n",
        "obj1.ref= obj2\n",
        "\n",
        "obj.print_LL()"
      ],
      "execution_count": 7,
      "outputs": [
        {
          "output_type": "stream",
          "text": [
            "10\n",
            "20\n",
            "30\n"
          ],
          "name": "stdout"
        }
      ]
    },
    {
      "cell_type": "code",
      "metadata": {
        "id": "D5kGwo4k2mTr"
      },
      "source": [
        ""
      ],
      "execution_count": null,
      "outputs": []
    }
  ]
}