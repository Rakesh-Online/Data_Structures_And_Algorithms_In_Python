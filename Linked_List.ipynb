{
  "nbformat": 4,
  "nbformat_minor": 0,
  "metadata": {
    "colab": {
      "name": "Linked_List.ipynb",
      "provenance": [],
      "authorship_tag": "ABX9TyOEeneK2oV7sTSwQUxS1aIJ",
      "include_colab_link": true
    },
    "kernelspec": {
      "name": "python3",
      "display_name": "Python 3"
    },
    "language_info": {
      "name": "python"
    }
  },
  "cells": [
    {
      "cell_type": "markdown",
      "metadata": {
        "id": "view-in-github",
        "colab_type": "text"
      },
      "source": [
        "<a href=\"https://colab.research.google.com/github/Rakesh-Online/Data_Structures_Python/blob/main/Linked_List.ipynb\" target=\"_parent\"><img src=\"https://colab.research.google.com/assets/colab-badge.svg\" alt=\"Open In Colab\"/></a>"
      ]
    },
    {
      "cell_type": "code",
      "metadata": {
        "id": "k24bkbfn279E"
      },
      "source": [
        "#Traversing a Linked List"
      ],
      "execution_count": null,
      "outputs": []
    },
    {
      "cell_type": "code",
      "metadata": {
        "id": "I3EyTt43wV1-"
      },
      "source": [
        "class node:\n",
        "  def __init__(self,data):\n",
        "    self.data = data\n",
        "    self.ref = None\n",
        "  \n",
        "class LinkedList:\n",
        "  def __init__(self):\n",
        "    self.head = None\n",
        "\n",
        "  def print_LL(self):\n",
        "    if self.head is None:\n",
        "      print(\"Linked List Is Empty\")\n",
        "    else:\n",
        "      n = self.head\n",
        "      while n is not None:\n",
        "        print(n.data)\n",
        "        n = n.ref\n"
      ],
      "execution_count": null,
      "outputs": []
    },
    {
      "cell_type": "code",
      "metadata": {
        "colab": {
          "base_uri": "https://localhost:8080/"
        },
        "id": "HAD5aufm2Z36",
        "outputId": "a42b39aa-a274-4ae3-c8e6-be58fccb9e1e"
      },
      "source": [
        "obj = LinkedList()\n",
        "obj.head = node(\"10\")\n",
        "obj1 = node(\"20\")\n",
        "obj2 = node(\"30\")\n",
        "\n",
        "obj.head.ref = obj1\n",
        "\n",
        "obj1.ref= obj2\n",
        "\n",
        "obj.print_LL()"
      ],
      "execution_count": null,
      "outputs": [
        {
          "output_type": "stream",
          "text": [
            "10\n",
            "20\n",
            "30\n"
          ],
          "name": "stdout"
        }
      ]
    },
    {
      "cell_type": "code",
      "metadata": {
        "id": "ykYyaOKLG0vz"
      },
      "source": [
        "#insert element at begining of Linked List"
      ],
      "execution_count": null,
      "outputs": []
    },
    {
      "cell_type": "code",
      "metadata": {
        "id": "D5kGwo4k2mTr"
      },
      "source": [
        "class node:\n",
        "  def __init__(self,data):\n",
        "    self.data = data\n",
        "    self.ref = None\n",
        "  \n",
        "class LinkedList:\n",
        "  def __init__(self):\n",
        "    self.head = None\n",
        "\n",
        "  def print_LL(self):\n",
        "    if self.head is None:\n",
        "      print(\"Linked List Is Empty\")\n",
        "    else:\n",
        "      n = self.head\n",
        "      while n is not None:\n",
        "        print(n.data)\n",
        "        n = n.ref\n",
        "\n",
        "  def add_begin(self, data):\n",
        "    new_node = node(data)\n",
        "    new_node.ref = self.head\n",
        "    self.head = new_node"
      ],
      "execution_count": null,
      "outputs": []
    },
    {
      "cell_type": "code",
      "metadata": {
        "colab": {
          "base_uri": "https://localhost:8080/"
        },
        "id": "xyPI0yC5HXEn",
        "outputId": "75a87584-bd22-49cb-bab1-a92f1dac680f"
      },
      "source": [
        "obj = LinkedList()\n",
        "obj.add_begin(10)\n",
        "obj.add_begin(20)\n",
        "obj.add_begin(30)\n",
        "obj.print_LL()"
      ],
      "execution_count": null,
      "outputs": [
        {
          "output_type": "stream",
          "text": [
            "30\n",
            "20\n",
            "10\n"
          ],
          "name": "stdout"
        }
      ]
    },
    {
      "cell_type": "code",
      "metadata": {
        "id": "YRalPGsZMHmj"
      },
      "source": [
        "# Add and element at end of Linked List"
      ],
      "execution_count": null,
      "outputs": []
    },
    {
      "cell_type": "code",
      "metadata": {
        "id": "Oi5bzaZ7HmQW"
      },
      "source": [
        "class node:\n",
        "  def __init__(self,data):\n",
        "    self.data =  data\n",
        "    self.ref = None\n",
        "  \n",
        "class LinkedList:\n",
        "  def __init__(self):\n",
        "    self.head = None\n",
        "\n",
        "  def print_LL(self):\n",
        "    if self.head is None:\n",
        "      print(\"Linked List is empty\")\n",
        "    else:\n",
        "      n = self.head\n",
        "      while n is not None:\n",
        "        print(n.data)\n",
        "        n = n.ref\n",
        "  def add_begin(self,data):\n",
        "    new_node = node(data)\n",
        "    new_node.ref = self.head\n",
        "    self.head = new_node\n",
        "\n",
        "  def add_end(self,data):\n",
        "    new_node =node(data)\n",
        "    if self.head is None:\n",
        "      print(\"LinkedList is empty\")\n",
        "    else:\n",
        "      n = self.head\n",
        "      while n.ref is not None:\n",
        "        n = n.ref\n",
        "      n.ref = new_node"
      ],
      "execution_count": null,
      "outputs": []
    },
    {
      "cell_type": "code",
      "metadata": {
        "colab": {
          "base_uri": "https://localhost:8080/"
        },
        "id": "wFpnrfoNLUjS",
        "outputId": "3d575d85-1763-4e7d-d9e0-af3632dedea4"
      },
      "source": [
        "a = LinkedList()\n",
        "a.add_begin(10)\n",
        "a.add_end(100)\n",
        "a.print_LL()"
      ],
      "execution_count": null,
      "outputs": [
        {
          "output_type": "stream",
          "text": [
            "10\n",
            "100\n"
          ],
          "name": "stdout"
        }
      ]
    },
    {
      "cell_type": "code",
      "metadata": {
        "id": "B_5C4I-o3hrQ"
      },
      "source": [
        "#add after "
      ],
      "execution_count": null,
      "outputs": []
    },
    {
      "cell_type": "code",
      "metadata": {
        "id": "Rk6AjB9fLd7v"
      },
      "source": [
        "class node:\n",
        "\n",
        "  def __init__(self,data):\n",
        "    self.data = data\n",
        "    self.ref = None\n",
        "\n",
        "class LinkedList:\n",
        "\n",
        "  def __init__(self):\n",
        "    self.head = None\n",
        "\n",
        "  def print_LL(self):\n",
        "    if self.head is None:\n",
        "      print(\"Linked list is empty\")\n",
        "    else:\n",
        "      n = self.head\n",
        "      while n is not None:\n",
        "        print(n.data)\n",
        "        n = n.ref\n",
        "\n",
        "  def add_begin(self, data):\n",
        "    new_node = node(data)\n",
        "    new_node.ref = self.head\n",
        "    self.head = new_node\n",
        "\n",
        "  def add_end(self, data):\n",
        "    new_node = node(data)\n",
        "    if self.head is None:\n",
        "      print(\"Linked List is empty\")\n",
        "    else:\n",
        "      n = self.head\n",
        "      while n.ref is not None:\n",
        "        n = n.ref\n",
        "      n.ref = new_node\n",
        "\n",
        "  def add_after(self,data,x):\n",
        "      n = self.head\n",
        "      while n is not None:\n",
        "          if x==n.data:\n",
        "              break\n",
        "          n = n.ref\n",
        "      if n is None:\n",
        "         print(\"node is not present in LL\")\n",
        "      else:\n",
        "         new_node = node(data)\n",
        "         new_node.ref = n.ref\n",
        "         n.ref = new_node\n"
      ],
      "execution_count": null,
      "outputs": []
    },
    {
      "cell_type": "code",
      "metadata": {
        "colab": {
          "base_uri": "https://localhost:8080/"
        },
        "id": "iNyVDZ41Sjm4",
        "outputId": "93f92169-a4ee-4f3d-8406-d24fd1ef33df"
      },
      "source": [
        "a = LinkedList()\n",
        "a.add_begin(10)\n",
        "a.add_begin(20)\n",
        "a.add_after(30,20)\n",
        "a.print_LL()"
      ],
      "execution_count": null,
      "outputs": [
        {
          "output_type": "stream",
          "text": [
            "20\n",
            "30\n",
            "10\n"
          ],
          "name": "stdout"
        }
      ]
    },
    {
      "cell_type": "code",
      "metadata": {
        "id": "p0B0jaa_46yW"
      },
      "source": [
        "# add_before insertion"
      ],
      "execution_count": null,
      "outputs": []
    },
    {
      "cell_type": "code",
      "metadata": {
        "id": "ffYeVY1pS5UQ"
      },
      "source": [
        "class node:\n",
        "\n",
        "  def __init__(self, data):\n",
        "    self.data = data \n",
        "    self.node = None\n",
        "\n",
        "class LinkedList:\n",
        "\n",
        "  def __init__(self):\n",
        "    self.head = None\n",
        "\n",
        "  def print_LL(self):\n",
        "    if self.head is None:\n",
        "      print(\"Linked list is empty\")\n",
        "    else:\n",
        "      n = self.head\n",
        "    while n is not None:\n",
        "      print(n.data)\n",
        "      n = n.ref\n",
        "\n",
        "  def add_begin(self,data):\n",
        "    new_node = node(data)\n",
        "    new_node.ref = self.head\n",
        "    self.head = new_node\n",
        "\n",
        "  def add_end(self,data):\n",
        "    new_node = node(data)\n",
        "    if self.head is None:\n",
        "      print(\"Linked List is empty\")\n",
        "    else:\n",
        "      n = self.head\n",
        "      while n.ref is not None:\n",
        "        n = n.ref\n",
        "      n.ref = new_node\n",
        "\n",
        "  def add_after(self,data,x):\n",
        "    n = self.head\n",
        "    while n is not None:\n",
        "      if x==n.data:\n",
        "        break\n",
        "      n = n.ref\n",
        "    if n is None:\n",
        "      print(\"Node is not present\")\n",
        "    else:\n",
        "      new_node = node(data)\n",
        "      new_node.ref = n.ref\n",
        "      n.ref = new_node\n",
        "\n",
        "  def add_before(self,data,x):\n",
        "    if self.head is None:\n",
        "      print(\"Linked List is empty\")\n",
        "      return\n",
        "    if self.head.data ==x:\n",
        "      new_node = node(data)\n",
        "      new_node.ref = self.head\n",
        "      self.head = new_node\n",
        "      return\n",
        "    n = self.head\n",
        "    while n is not None:\n",
        "      if n.ref.data ==x:\n",
        "        break\n",
        "      n = n.ref\n",
        "    if n is None:\n",
        "      print(\"Node is not present\")\n",
        "    else:\n",
        "      new_node = node(data)\n",
        "      new_node.ref = n.ref\n",
        "      n.ref = new_node"
      ],
      "execution_count": null,
      "outputs": []
    },
    {
      "cell_type": "code",
      "metadata": {
        "id": "dVVySOBFFcHi",
        "colab": {
          "base_uri": "https://localhost:8080/"
        },
        "outputId": "71081544-8a8b-498b-9280-197f9c8c25b8"
      },
      "source": [
        "ob = LinkedList()\n",
        "ob.add_begin(20)\n",
        "ob.add_begin(10)\n",
        "ob.add_before(30,20)\n",
        "ob.print_LL()"
      ],
      "execution_count": null,
      "outputs": [
        {
          "output_type": "stream",
          "text": [
            "10\n",
            "30\n",
            "20\n"
          ],
          "name": "stdout"
        }
      ]
    },
    {
      "cell_type": "code",
      "metadata": {
        "id": "OTpphPQ1GXC1"
      },
      "source": [
        "#insert node to empty linked list"
      ],
      "execution_count": null,
      "outputs": []
    },
    {
      "cell_type": "code",
      "metadata": {
        "id": "AMVcIhItFkH2"
      },
      "source": [
        "class node:\n",
        "\n",
        "  def __init__(self, data):\n",
        "    self.data = data \n",
        "    self.node = None\n",
        "\n",
        "class LinkedList:\n",
        "\n",
        "  def __init__(self):\n",
        "    self.head = None\n",
        "\n",
        "  def print_LL(self):\n",
        "    if self.head is None:\n",
        "      print(\"Linked list is empty\")\n",
        "    else:\n",
        "      n = self.head\n",
        "    while n is not None:\n",
        "      print(n.data)\n",
        "    n = n.ref\n",
        "\n",
        "  def add_begin(self,data):\n",
        "    new_node = node(data)\n",
        "    new_node.ref = self.head\n",
        "    self.head = new_node\n",
        "\n",
        "  def add_end(self,data):\n",
        "    new_node = node(data)\n",
        "    if self.head is None:\n",
        "      print(\"Linked List is empty\")\n",
        "    else:\n",
        "      n = self.head\n",
        "      while n.ref is not None:\n",
        "        n = n.ref\n",
        "      n.ref = new_node\n",
        "\n",
        "  def add_after(self,data,x):\n",
        "    n = self.head\n",
        "    while n is not None:\n",
        "      if x==n.data:\n",
        "        break\n",
        "      n = n.ref\n",
        "    if n is None:\n",
        "      print(\"Node is not present\")\n",
        "    else:\n",
        "      new_node = node(data)\n",
        "      new_node.ref = n.ref\n",
        "      n.ref = new_node\n",
        "\n",
        "  def add_before(self,data,x):\n",
        "    if self.head is None:\n",
        "      print(\"Linked List is empty\")\n",
        "      return\n",
        "    if self.head.data ==x:\n",
        "      new_node = node(data)\n",
        "      new_node.ref = self.head\n",
        "      self.head = new_node\n",
        "      return\n",
        "    n = self.head\n",
        "    while n is not None:\n",
        "      if n.ref.data ==x:\n",
        "        break\n",
        "      n = n.ref\n",
        "    if n is None:\n",
        "      print(\"Node is not present\")\n",
        "    else:\n",
        "      new_node = node(data)\n",
        "      new_node.ref = n.ref\n",
        "      n.ref = new_node\n",
        "\n",
        "  def insert_empty(self, data):\n",
        "    if self.head is None:\n",
        "      new_node = node(data)\n",
        "      self.head = new_node\n",
        "    else:\n",
        "      print(\"Linked list is not empty\")"
      ],
      "execution_count": null,
      "outputs": []
    },
    {
      "cell_type": "code",
      "metadata": {
        "id": "_AJRCEjeGd4F",
        "colab": {
          "base_uri": "https://localhost:8080/"
        },
        "outputId": "80f33106-97fb-418a-ee7d-92b03a85ec5a"
      },
      "source": [
        "a = LinkedList()\n",
        "a.insert_empty(10)\n",
        "a.insert_empty(20)"
      ],
      "execution_count": null,
      "outputs": [
        {
          "output_type": "stream",
          "text": [
            "Linked list is not empty\n"
          ],
          "name": "stdout"
        }
      ]
    },
    {
      "cell_type": "code",
      "metadata": {
        "id": "c7b_2PgQGnHv"
      },
      "source": [
        "class node:\n",
        "\n",
        "  def __init__(self,data):\n",
        "    self.data = data\n",
        "    self.ref = None\n",
        "class LinkedList:\n",
        "\n",
        "  def __init__(self):\n",
        "    self.head = None\n",
        "\n",
        "  def print_LL(self):\n",
        "    if self.head is None:\n",
        "      print(\"Linked List is Empty\")\n",
        "    else:\n",
        "      n = self.head\n",
        "      while n is not None:\n",
        "        print(n.data)\n",
        "        n = n.ref\n",
        "\n",
        "  def add_begin(self, data):\n",
        "    new_node = node(data)\n",
        "    new_node.ref = self.head\n",
        "    self.head = new_node\n",
        "\n",
        "  def add_end(self, data):\n",
        "    new_node = node(data)\n",
        "    if self.head is None:\n",
        "      print(\"Linked List is Empty\")\n",
        "    else:\n",
        "      n = self.head\n",
        "      while n.ref is not None:\n",
        "        n = n.ref\n",
        "      n.ref = new_node\n",
        "      \n",
        "  def add_after(self,data, x):\n",
        "    n = self.head\n",
        "    while n is not None:\n",
        "      if x==n.data:\n",
        "        break\n",
        "      n = n.ref\n",
        "    if n is None:\n",
        "      print(\"Node is not present\")\n",
        "    else:\n",
        "      new_node = node(data)\n",
        "      new_node.ref = n.ref \n",
        "      n.ref = new_node\n",
        "  def add_before(self,data,x):\n",
        "    if self.head is None:\n",
        "      print(\"Linked List is empty\")\n",
        "    if self.head.data ==x:\n",
        "      new_node = node(data)\n",
        "      new_node.ref = self.head\n",
        "      self.head = new_node\n",
        "      return\n",
        "    n = self.head\n",
        "    while n is not None:\n",
        "      if n.ref.data ==x:\n",
        "        break\n",
        "      n = n.ref\n",
        "    if n is None:\n",
        "      print(\"node is not present\")\n",
        "    else:\n",
        "      new_node = node(data)\n",
        "      new_node.ref = n.ref\n",
        "      n.ref = new_node\n",
        "\n",
        "  def insert_empty(self,data):\n",
        "    if self.head is None:\n",
        "      new_node = node(data)\n",
        "      self.head = new_node\n",
        "    else:\n",
        "      print(\"Linked List is not empty\")\n",
        "  def delete_begin(self):\n",
        "    if self.head is None:\n",
        "      print(\"Linked List is empty\")\n",
        "    else:\n",
        "      self.head = self.head.ref\n"
      ],
      "execution_count": 14,
      "outputs": []
    },
    {
      "cell_type": "code",
      "metadata": {
        "id": "oVK8Uy2SLKgj"
      },
      "source": [
        "b = LinkedList()\n",
        "b.add_begin(10)\n",
        "b.add_begin(20)\n",
        "b.add_begin(30)"
      ],
      "execution_count": 17,
      "outputs": []
    },
    {
      "cell_type": "code",
      "metadata": {
        "id": "BQSvq8x-Lcri",
        "outputId": "c4931c36-b018-42f9-a12f-d9d0e87ed981",
        "colab": {
          "base_uri": "https://localhost:8080/"
        }
      },
      "source": [
        "b.delete_begin()\n",
        "b.print_LL()"
      ],
      "execution_count": 18,
      "outputs": [
        {
          "output_type": "stream",
          "text": [
            "20\n",
            "10\n"
          ],
          "name": "stdout"
        }
      ]
    },
    {
      "cell_type": "code",
      "metadata": {
        "id": "5FJe4rHHL19o"
      },
      "source": [
        ""
      ],
      "execution_count": null,
      "outputs": []
    }
  ]
}