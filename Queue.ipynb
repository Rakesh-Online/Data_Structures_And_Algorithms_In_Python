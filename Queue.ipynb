{
  "nbformat": 4,
  "nbformat_minor": 0,
  "metadata": {
    "colab": {
      "name": "Queue.ipynb",
      "provenance": [],
      "authorship_tag": "ABX9TyMv7tV4c/qWQrRV75PNY9SW",
      "include_colab_link": true
    },
    "kernelspec": {
      "name": "python3",
      "display_name": "Python 3"
    },
    "language_info": {
      "name": "python"
    }
  },
  "cells": [
    {
      "cell_type": "markdown",
      "metadata": {
        "id": "view-in-github",
        "colab_type": "text"
      },
      "source": [
        "<a href=\"https://colab.research.google.com/github/Rakesh-Online/Data_Structures_Python/blob/main/Queue.ipynb\" target=\"_parent\"><img src=\"https://colab.research.google.com/assets/colab-badge.svg\" alt=\"Open In Colab\"/></a>"
      ]
    },
    {
      "cell_type": "code",
      "metadata": {
        "id": "zP7f7XOhhQz_"
      },
      "source": [
        "# queue is a linear data structure that stores items in First In First Out (FIFO) manner. \n",
        "# With a queue the least recently added item is removed first. A good example of queue is any queue of consumers for a\n",
        "# resource where the consumer that came first is served first."
      ],
      "execution_count": null,
      "outputs": []
    },
    {
      "cell_type": "code",
      "metadata": {
        "colab": {
          "base_uri": "https://localhost:8080/"
        },
        "id": "pxAz_0dhXDqy",
        "outputId": "2c4ec723-2b91-4578-c6e1-807f656113e5"
      },
      "source": [
        "queue = []\n",
        "\n",
        "queue.append(10)\n",
        "queue.append(20)\n",
        "queue.append(30)\n",
        "queue.append(40)\n",
        "print(queue)"
      ],
      "execution_count": 1,
      "outputs": [
        {
          "output_type": "stream",
          "text": [
            "[10, 20, 30, 40]\n"
          ],
          "name": "stdout"
        }
      ]
    },
    {
      "cell_type": "code",
      "metadata": {
        "colab": {
          "base_uri": "https://localhost:8080/"
        },
        "id": "I2pLKnjChhEQ",
        "outputId": "3109ed67-b807-4780-80ee-814301888dba"
      },
      "source": [
        "print(queue.pop(0))\n",
        "print(queue.pop(0))\n",
        "print(queue.pop(0))"
      ],
      "execution_count": 2,
      "outputs": [
        {
          "output_type": "stream",
          "text": [
            "10\n",
            "20\n",
            "30\n"
          ],
          "name": "stdout"
        }
      ]
    },
    {
      "cell_type": "code",
      "metadata": {
        "colab": {
          "base_uri": "https://localhost:8080/"
        },
        "id": "1AH20TXnhpzX",
        "outputId": "762bc70d-a047-4cf1-e069-982628f737f4"
      },
      "source": [
        "queue = []\n",
        "\n",
        "def enqueue():\n",
        "  val = eval(input(\"Enter the val to push: \"))\n",
        "  queue.append(val)\n",
        "  print(queue)\n",
        "\n",
        "def dequeue():\n",
        "  if not queue:\n",
        "    print(\"Its empty\")\n",
        "  else:\n",
        "    queue.pop(0)\n",
        "    print(queue)\n",
        "\n",
        "while True:\n",
        "  print(\"Enter the Options 1.Push 2.pop 3. Exit\")\n",
        "  a = input(\"Enter your Option\")\n",
        "  if a == '1':\n",
        "    enqueue()\n",
        "  elif a=='2':\n",
        "    dequeue()\n",
        "  elif a== '3':\n",
        "    break\n",
        "  else:\n",
        "    print(\"Enter valid option\")\n",
        "\n"
      ],
      "execution_count": 5,
      "outputs": [
        {
          "output_type": "stream",
          "text": [
            "Enter the Options 1.Push 2.pop 3. Exit\n",
            "Enter your Option1\n",
            "Enter the val to push: 10\n",
            "[10]\n",
            "Enter the Options 1.Push 2.pop 3. Exit\n",
            "Enter your Option1\n",
            "Enter the val to push: 20\n",
            "[10, 20]\n",
            "Enter the Options 1.Push 2.pop 3. Exit\n",
            "Enter your Option1\n",
            "Enter the val to push: 30\n",
            "[10, 20, 30]\n",
            "Enter the Options 1.Push 2.pop 3. Exit\n",
            "Enter your Option2\n",
            "[20, 30]\n",
            "Enter the Options 1.Push 2.pop 3. Exit\n",
            "Enter your Option2\n",
            "[30]\n",
            "Enter the Options 1.Push 2.pop 3. Exit\n",
            "Enter your Option3\n"
          ],
          "name": "stdout"
        }
      ]
    },
    {
      "cell_type": "code",
      "metadata": {
        "id": "tZ_cJc4qhwNo"
      },
      "source": [
        "import collections"
      ],
      "execution_count": 6,
      "outputs": []
    },
    {
      "cell_type": "code",
      "metadata": {
        "id": "7wnX0EC-jYCQ"
      },
      "source": [
        "queue = collections.deque()"
      ],
      "execution_count": 9,
      "outputs": []
    },
    {
      "cell_type": "code",
      "metadata": {
        "colab": {
          "base_uri": "https://localhost:8080/"
        },
        "id": "APiqqu_hjarP",
        "outputId": "a3fd3991-62c4-414e-b894-67fb22e3e913"
      },
      "source": [
        "queue.appendleft(10)\n",
        "queue.appendleft(20)\n",
        "queue.appendleft(30)\n",
        "queue.appendleft(40)\n",
        "print(queue)"
      ],
      "execution_count": 10,
      "outputs": [
        {
          "output_type": "stream",
          "text": [
            "deque([40, 30, 20, 10])\n"
          ],
          "name": "stdout"
        }
      ]
    },
    {
      "cell_type": "code",
      "metadata": {
        "colab": {
          "base_uri": "https://localhost:8080/"
        },
        "id": "js460kiXjj88",
        "outputId": "dedfbea7-c10b-4edf-b7af-5de1e7780a7f"
      },
      "source": [
        "print(queue.pop())\n",
        "print(queue.pop())\n",
        "print(queue)"
      ],
      "execution_count": 11,
      "outputs": [
        {
          "output_type": "stream",
          "text": [
            "10\n",
            "20\n",
            "deque([40, 30])\n"
          ],
          "name": "stdout"
        }
      ]
    },
    {
      "cell_type": "code",
      "metadata": {
        "id": "toyaXmlnjy7m"
      },
      "source": [
        "queue = collections.deque()"
      ],
      "execution_count": 12,
      "outputs": []
    },
    {
      "cell_type": "code",
      "metadata": {
        "colab": {
          "base_uri": "https://localhost:8080/"
        },
        "id": "srMSVYvbj5ZW",
        "outputId": "a795d636-e5a6-449f-e717-39575cb1883e"
      },
      "source": [
        "queue.append(10)\n",
        "queue.append(20)\n",
        "queue.append(30)\n",
        "queue.append(40)\n",
        "print(queue)"
      ],
      "execution_count": 14,
      "outputs": [
        {
          "output_type": "stream",
          "text": [
            "deque([10, 10, 10, 20, 30, 40])\n"
          ],
          "name": "stdout"
        }
      ]
    },
    {
      "cell_type": "code",
      "metadata": {
        "colab": {
          "base_uri": "https://localhost:8080/"
        },
        "id": "DVSzYQRWj_Vb",
        "outputId": "8d24a941-d50f-41d1-8454-d46ff4f5b7a5"
      },
      "source": [
        "print(queue.popleft())\n",
        "print(queue.popleft())\n",
        "print(queue.popleft())\n",
        "print(queue.popleft())\n",
        "print(queue)"
      ],
      "execution_count": 15,
      "outputs": [
        {
          "output_type": "stream",
          "text": [
            "10\n",
            "10\n",
            "10\n",
            "20\n",
            "deque([30, 40])\n"
          ],
          "name": "stdout"
        }
      ]
    },
    {
      "cell_type": "code",
      "metadata": {
        "id": "wIteGLMMkHbX"
      },
      "source": [
        ""
      ],
      "execution_count": null,
      "outputs": []
    }
  ]
}