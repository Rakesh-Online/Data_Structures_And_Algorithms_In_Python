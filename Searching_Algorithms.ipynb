{
  "cells": [
    {
      "cell_type": "markdown",
      "metadata": {
        "colab_type": "text",
        "id": "view-in-github"
      },
      "source": [
        "<a href=\"https://colab.research.google.com/github/Rakesh-Online/Data_Structures_And_Algorithms_In_Python/blob/main/Algorithms.ipynb\" target=\"_parent\"><img src=\"https://colab.research.google.com/assets/colab-badge.svg\" alt=\"Open In Colab\"/></a>"
      ]
    },
    {
      "cell_type": "code",
      "execution_count": null,
      "metadata": {
        "id": "tKlyRaIUQoaC"
      },
      "outputs": [],
      "source": [
        "#Linear search\n",
        "# Time complexity \n",
        "# worst case - O(n)\n",
        "# Average case - O(n)\n",
        "# Best case - O(1)\n",
        "# Space complexity O(1)"
      ]
    },
    {
      "cell_type": "code",
      "execution_count": 1,
      "metadata": {
        "id": "Btv6ta-5Qtcl"
      },
      "outputs": [],
      "source": [
        "def linear_search(list1, n):\n",
        "    pos = -1\n",
        "    for i in range(len(list1)):\n",
        "        if n == list1[i]:\n",
        "            pos = i\n",
        "            print(\"found at\", pos)\n",
        "            break\n",
        "    else:\n",
        "        print(\"not found\")"
      ]
    },
    {
      "cell_type": "code",
      "execution_count": 2,
      "metadata": {
        "colab": {
          "base_uri": "https://localhost:8080/"
        },
        "id": "ys5zW0Z5RAdw",
        "outputId": "991233ce-363b-4146-c9f4-678365b03330"
      },
      "outputs": [
        {
          "name": "stdout",
          "output_type": "stream",
          "text": [
            "found at 4\n"
          ]
        }
      ],
      "source": [
        "n = 6\n",
        "l = [2,3,4,5,6,7,8,9]\n",
        "linear_search(l,n)"
      ]
    },
    {
      "cell_type": "code",
      "execution_count": 9,
      "metadata": {
        "id": "KS1UZMjESvzI"
      },
      "outputs": [],
      "source": [
        "# Binay search\n",
        "# Implementation of binary search using recursion technique\n",
        "# timeComplexity is O(n log n)\n",
        "\n",
        "def BinarySearch(array, i, j, x):\n",
        "    if i == j:\n",
        "        if array[i] == x:\n",
        "            return i\n",
        "        else:\n",
        "            return -1\n",
        "    else:\n",
        "        mid = i + (j-i)//2\n",
        "        if array[mid] == x:\n",
        "            return mid\n",
        "        elif array[mid]< x:\n",
        "            return BinarySearch(array,mid+1, j, x)\n",
        "        else:\n",
        "            return BinarySearch(array,i, mid-1, x)\n",
        "        \n",
        "    "
      ]
    },
    {
      "cell_type": "code",
      "execution_count": 8,
      "metadata": {},
      "outputs": [
        {
          "name": "stdout",
          "output_type": "stream",
          "text": [
            "3\n"
          ]
        }
      ],
      "source": [
        "#Driver code\n",
        "array = [10,23,35,67,75,86,90]\n",
        "i =0\n",
        "j =len(array)-1\n",
        "x = 67\n",
        "result = BinarySearch(array, i, j, x)\n",
        "print(result)"
      ]
    },
    {
      "cell_type": "code",
      "execution_count": 10,
      "metadata": {},
      "outputs": [],
      "source": [
        "# Binay search\n",
        "# Implementation of binary search without using recursion technique\n",
        "# timeComplexity is O(n log n)\n",
        "\n",
        "\n",
        "def BinaySearch(arr, i, j ,x):\n",
        "    while i<=j:\n",
        "        mid = i +(j-i)//2\n",
        "        if arr[mid] == x:\n",
        "            return mid\n",
        "        elif arr[mid] < x:\n",
        "            i = mid + 1\n",
        "        else:\n",
        "            j = mid-1\n",
        "    return -1\n"
      ]
    },
    {
      "cell_type": "code",
      "execution_count": 11,
      "metadata": {},
      "outputs": [
        {
          "name": "stdout",
          "output_type": "stream",
          "text": [
            "3\n"
          ]
        }
      ],
      "source": [
        "#Driver code\n",
        "array = [10,23,35,67,75,86,90]\n",
        "i =0\n",
        "j =len(array)-1\n",
        "x = 67\n",
        "result = BinarySearch(array, i, j, x)\n",
        "print(result)"
      ]
    },
    {
      "cell_type": "code",
      "execution_count": 12,
      "metadata": {},
      "outputs": [],
      "source": [
        "#Search in 2D array\n",
        "##function definition\n",
        "def searchSortedmetrix(matrix,target):\n",
        "    m = len(matrix)\n",
        "    if m == 0:\n",
        "        return False\n",
        "    n = len(matrix[0])\n",
        "    left, right = 0 , m*n-1\n",
        "    while left <= right:\n",
        "        mid = left + (right-left) //2\n",
        "        mid_element = matrix[mid//n][mid%n]\n",
        "        if target == mid_element:\n",
        "            return True\n",
        "        elif target < mid_element:\n",
        "            right = mid -1\n",
        "        else:\n",
        "            left = mid + 1  \n",
        "    return False\n",
        "        \n",
        "    \n",
        "    \n",
        "\n"
      ]
    },
    {
      "cell_type": "code",
      "execution_count": 14,
      "metadata": {},
      "outputs": [
        {
          "name": "stdout",
          "output_type": "stream",
          "text": [
            "True\n"
          ]
        }
      ],
      "source": [
        "# Driver code \n",
        "matrix = [[1,3,5,7], [10,11,16,20], [23,30,34,60]]\n",
        "target = 3\n",
        "## function calling\n",
        "result = searchSortedmetrix(matrix, target)\n",
        "print(result)"
      ]
    },
    {
      "cell_type": "code",
      "execution_count": null,
      "metadata": {},
      "outputs": [],
      "source": [
        " "
      ]
    }
  ],
  "metadata": {
    "colab": {
      "authorship_tag": "ABX9TyPVJSur6fLl3kEzIxOwQiWd",
      "include_colab_link": true,
      "name": "Algorithms.ipynb",
      "provenance": []
    },
    "kernelspec": {
      "display_name": "Python 3.8.8 ('base')",
      "language": "python",
      "name": "python3"
    },
    "language_info": {
      "codemirror_mode": {
        "name": "ipython",
        "version": 3
      },
      "file_extension": ".py",
      "mimetype": "text/x-python",
      "name": "python",
      "nbconvert_exporter": "python",
      "pygments_lexer": "ipython3",
      "version": "3.8.8"
    },
    "vscode": {
      "interpreter": {
        "hash": "6854ea8ff5a79f7e4718b9fbdf74d22809e414484d0c695c5bccf0455375b9ad"
      }
    }
  },
  "nbformat": 4,
  "nbformat_minor": 0
}
