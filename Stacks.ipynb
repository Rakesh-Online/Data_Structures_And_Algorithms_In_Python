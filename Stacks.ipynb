{
  "nbformat": 4,
  "nbformat_minor": 0,
  "metadata": {
    "colab": {
      "name": "Stacks.ipynb",
      "provenance": [],
      "authorship_tag": "ABX9TyNJJfxYqMSt0XCAzotmvJSp",
      "include_colab_link": true
    },
    "kernelspec": {
      "name": "python3",
      "display_name": "Python 3"
    },
    "language_info": {
      "name": "python"
    }
  },
  "cells": [
    {
      "cell_type": "markdown",
      "metadata": {
        "id": "view-in-github",
        "colab_type": "text"
      },
      "source": [
        "<a href=\"https://colab.research.google.com/github/Rakesh-Online/Data_Structures_Python/blob/main/Stacks.ipynb\" target=\"_parent\"><img src=\"https://colab.research.google.com/assets/colab-badge.svg\" alt=\"Open In Colab\"/></a>"
      ]
    },
    {
      "cell_type": "code",
      "metadata": {
        "id": "f1pejD0m_63g"
      },
      "source": [
        "#A stack is a linear data structure that stores items in a Last-In/First-Out (LIFO) or First-In/Last-Out\n",
        "#(FILO) manner. In stack, a new element is added at one end and an element is removed from\n",
        "#that end only. The insert and delete operations are often called push and pop."
      ],
      "execution_count": null,
      "outputs": []
    },
    {
      "cell_type": "code",
      "metadata": {
        "colab": {
          "base_uri": "https://localhost:8080/"
        },
        "id": "q-K88bdREabI",
        "outputId": "a2f01a4a-ab63-4a93-8923-65980a766d00"
      },
      "source": [
        "a = []\n",
        "\n",
        "#push with list methods\n",
        "a.append(10)\n",
        "a.append(20)\n",
        "a.append(30)\n",
        "print(a)"
      ],
      "execution_count": 1,
      "outputs": [
        {
          "output_type": "stream",
          "text": [
            "[10, 20, 30]\n"
          ],
          "name": "stdout"
        }
      ]
    },
    {
      "cell_type": "code",
      "metadata": {
        "colab": {
          "base_uri": "https://localhost:8080/"
        },
        "id": "HuztFnN7Egzp",
        "outputId": "b16b68b6-5fd9-4725-d7c4-59cf531f4280"
      },
      "source": [
        "#pop with list methods\n",
        "a.pop()\n",
        "a.pop()\n",
        "print(a)"
      ],
      "execution_count": 2,
      "outputs": [
        {
          "output_type": "stream",
          "text": [
            "[10]\n"
          ],
          "name": "stdout"
        }
      ]
    },
    {
      "cell_type": "code",
      "metadata": {
        "colab": {
          "base_uri": "https://localhost:8080/"
        },
        "id": "0oiil11tErt4",
        "outputId": "d6199039-6788-4548-dc31-2e12aecad75c"
      },
      "source": [
        "# not will be used to check weather a list is empty\n",
        "not a"
      ],
      "execution_count": 3,
      "outputs": [
        {
          "output_type": "execute_result",
          "data": {
            "text/plain": [
              "False"
            ]
          },
          "metadata": {
            "tags": []
          },
          "execution_count": 3
        }
      ]
    },
    {
      "cell_type": "code",
      "metadata": {
        "colab": {
          "base_uri": "https://localhost:8080/"
        },
        "id": "vyJ1Rj9jE4i7",
        "outputId": "68894317-f84d-48bc-f0a3-2f0dade8819c"
      },
      "source": [
        "stack = []\n",
        "\n",
        "def push():\n",
        "  val = eval(input(\"Enter an item to push:\" ))\n",
        "  stack.append(val)\n",
        "  print(stack)\n",
        "\n",
        "def pop_val():\n",
        "  if not stack:\n",
        "    print(\"its empty \")\n",
        "  else:\n",
        "    p = stack.pop()\n",
        "    print(p, \"removed\")\n",
        "    print(stack)\n",
        "\n",
        "while True:\n",
        "  a = input(\"Enter options:\\n 1.Push \\n 2.pop \\n 3.exit \\n : \" )\n",
        "  if a == \"1\":\n",
        "    push()\n",
        "  elif a==\"2\":\n",
        "    pop_val()\n",
        "  elif a==\"3\":\n",
        "    break\n",
        "  else:\n",
        "    print(\"Enter a valid number\")"
      ],
      "execution_count": 6,
      "outputs": [
        {
          "output_type": "stream",
          "text": [
            "Enter options:\n",
            " 1.Push \n",
            " 2.pop \n",
            " 3. exit \n",
            " : 1\n",
            "Enter an item to push:10\n",
            "[10]\n",
            "Enter options:\n",
            " 1.Push \n",
            " 2.pop \n",
            " 3. exit \n",
            " : 1\n",
            "Enter an item to push:20\n",
            "[10, 20]\n",
            "Enter options:\n",
            " 1.Push \n",
            " 2.pop \n",
            " 3. exit \n",
            " : 2\n",
            "20 removed\n",
            "[10]\n",
            "Enter options:\n",
            " 1.Push \n",
            " 2.pop \n",
            " 3. exit \n",
            " : 1\n",
            "Enter an item to push:30\n",
            "[10, 30]\n",
            "Enter options:\n",
            " 1.Push \n",
            " 2.pop \n",
            " 3. exit \n",
            " : 3\n"
          ],
          "name": "stdout"
        }
      ]
    },
    {
      "cell_type": "code",
      "metadata": {
        "id": "lF1oMA2-HDKE"
      },
      "source": [
        "import collections "
      ],
      "execution_count": 7,
      "outputs": []
    },
    {
      "cell_type": "code",
      "metadata": {
        "id": "x1kw8TrZHy1H"
      },
      "source": [
        "stack = collections.deque()"
      ],
      "execution_count": 8,
      "outputs": []
    },
    {
      "cell_type": "code",
      "metadata": {
        "colab": {
          "base_uri": "https://localhost:8080/"
        },
        "id": "ZZi2SMRDH8wF",
        "outputId": "41b412a1-95f3-436f-b5ba-47e348b0784e"
      },
      "source": [
        "stack.append(10)\n",
        "stack.append(20)\n",
        "stack.append(30)\n",
        "stack"
      ],
      "execution_count": 10,
      "outputs": [
        {
          "output_type": "execute_result",
          "data": {
            "text/plain": [
              "deque([10, 20, 30, 10, 20, 30])"
            ]
          },
          "metadata": {
            "tags": []
          },
          "execution_count": 10
        }
      ]
    },
    {
      "cell_type": "code",
      "metadata": {
        "colab": {
          "base_uri": "https://localhost:8080/"
        },
        "id": "rZmNHSsCIIL6",
        "outputId": "ac203b1d-53fe-44c1-aebe-34493596ac44"
      },
      "source": [
        "stack.pop()\n",
        "stack.pop()\n"
      ],
      "execution_count": 11,
      "outputs": [
        {
          "output_type": "execute_result",
          "data": {
            "text/plain": [
              "20"
            ]
          },
          "metadata": {
            "tags": []
          },
          "execution_count": 11
        }
      ]
    },
    {
      "cell_type": "code",
      "metadata": {
        "colab": {
          "base_uri": "https://localhost:8080/"
        },
        "id": "ImhfVYRfIO52",
        "outputId": "6b7a621b-7b86-4e47-aed5-2ae68306fd65"
      },
      "source": [
        "stack"
      ],
      "execution_count": 12,
      "outputs": [
        {
          "output_type": "execute_result",
          "data": {
            "text/plain": [
              "deque([10, 20, 30, 10])"
            ]
          },
          "metadata": {
            "tags": []
          },
          "execution_count": 12
        }
      ]
    },
    {
      "cell_type": "code",
      "metadata": {
        "id": "_0RJ1X1xIQvF"
      },
      "source": [
        "import queue"
      ],
      "execution_count": 14,
      "outputs": []
    },
    {
      "cell_type": "code",
      "metadata": {
        "id": "LgjObWkhJF5l"
      },
      "source": [
        "stack = queue.LifoQueue()\n"
      ],
      "execution_count": 15,
      "outputs": []
    },
    {
      "cell_type": "code",
      "metadata": {
        "id": "qjeUgtT1JTNu"
      },
      "source": [
        "stack.put(10)\n",
        "stack.put(20)\n",
        "stack.put(30)\n",
        "stack.put(40)\n"
      ],
      "execution_count": 20,
      "outputs": []
    },
    {
      "cell_type": "code",
      "metadata": {
        "colab": {
          "base_uri": "https://localhost:8080/"
        },
        "id": "ayN7HAfAJsdt",
        "outputId": "b0d9437e-99e0-46aa-a76e-884fa9bb40d1"
      },
      "source": [
        "stack.get()\n",
        "stack.get()\n",
        "stack.get()"
      ],
      "execution_count": 22,
      "outputs": [
        {
          "output_type": "execute_result",
          "data": {
            "text/plain": [
              "30"
            ]
          },
          "metadata": {
            "tags": []
          },
          "execution_count": 22
        }
      ]
    },
    {
      "cell_type": "code",
      "metadata": {
        "id": "_UdtZXzvJ_AF"
      },
      "source": [
        ""
      ],
      "execution_count": null,
      "outputs": []
    }
  ]
}