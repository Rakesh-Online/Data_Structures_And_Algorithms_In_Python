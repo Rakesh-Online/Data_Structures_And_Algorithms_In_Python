{
  "cells": [
    {
      "cell_type": "markdown",
      "metadata": {
        "colab_type": "text",
        "id": "view-in-github"
      },
      "source": [
        "<a href=\"https://colab.research.google.com/github/Rakesh-Online/Data_Structures_Python/blob/main/Stacks.ipynb\" target=\"_parent\"><img src=\"https://colab.research.google.com/assets/colab-badge.svg\" alt=\"Open In Colab\"/></a>"
      ]
    },
    {
      "cell_type": "code",
      "execution_count": null,
      "metadata": {
        "id": "f1pejD0m_63g"
      },
      "outputs": [],
      "source": [
        "\"\"\"A stack is a linear data structure that stores items in a Last-In/First-Out (LIFO) or First-In/Last-Out\r\n",
        "(FILO) manner. In stack, a new element is added at one end and an element is removed from\r\n",
        "that end only. The insert and delete operations are often called push and pop.\"\"\"\r\n",
        "\r\n",
        "\r\n",
        "\"\"\"Example : \r\n",
        " In browsers - The back button in a browser saves all the URLs you have visited previously\r\n",
        " in a stack. Each time you visit a new page, it is added on top of the stack. When you \r\n",
        " press the back button, the current URL is removed from the stack, and the previous URL is accessed.\"\"\""
      ]
    },
    {
      "cell_type": "code",
      "execution_count": 1,
      "metadata": {
        "colab": {
          "base_uri": "https://localhost:8080/"
        },
        "id": "q-K88bdREabI",
        "outputId": "a2f01a4a-ab63-4a93-8923-65980a766d00"
      },
      "outputs": [
        {
          "name": "stdout",
          "output_type": "stream",
          "text": [
            "[10, 20, 30]\n"
          ]
        }
      ],
      "source": [
        "a = []\n",
        "\n",
        "#push with list methods\n",
        "a.append(10)\n",
        "a.append(20)\n",
        "a.append(30)\n",
        "print(a)"
      ]
    },
    {
      "cell_type": "code",
      "execution_count": 2,
      "metadata": {
        "colab": {
          "base_uri": "https://localhost:8080/"
        },
        "id": "HuztFnN7Egzp",
        "outputId": "b16b68b6-5fd9-4725-d7c4-59cf531f4280"
      },
      "outputs": [
        {
          "name": "stdout",
          "output_type": "stream",
          "text": [
            "[10]\n"
          ]
        }
      ],
      "source": [
        "#pop with list methods\n",
        "a.pop()\n",
        "a.pop()\n",
        "print(a)"
      ]
    },
    {
      "cell_type": "code",
      "execution_count": 3,
      "metadata": {
        "colab": {
          "base_uri": "https://localhost:8080/"
        },
        "id": "0oiil11tErt4",
        "outputId": "d6199039-6788-4548-dc31-2e12aecad75c"
      },
      "outputs": [
        {
          "data": {
            "text/plain": [
              "False"
            ]
          },
          "execution_count": 3,
          "metadata": {
            "tags": []
          },
          "output_type": "execute_result"
        }
      ],
      "source": [
        "'''not will be used to check weather a list is empty\r\n",
        "not a'''"
      ]
    },
    {
      "cell_type": "code",
      "execution_count": 6,
      "metadata": {
        "colab": {
          "base_uri": "https://localhost:8080/"
        },
        "id": "vyJ1Rj9jE4i7",
        "outputId": "68894317-f84d-48bc-f0a3-2f0dade8819c"
      },
      "outputs": [
        {
          "name": "stdout",
          "output_type": "stream",
          "text": [
            "Enter options:\n",
            " 1.Push \n",
            " 2.pop \n",
            " 3. exit \n",
            " : 1\n",
            "Enter an item to push:10\n",
            "[10]\n",
            "Enter options:\n",
            " 1.Push \n",
            " 2.pop \n",
            " 3. exit \n",
            " : 1\n",
            "Enter an item to push:20\n",
            "[10, 20]\n",
            "Enter options:\n",
            " 1.Push \n",
            " 2.pop \n",
            " 3. exit \n",
            " : 2\n",
            "20 removed\n",
            "[10]\n",
            "Enter options:\n",
            " 1.Push \n",
            " 2.pop \n",
            " 3. exit \n",
            " : 1\n",
            "Enter an item to push:30\n",
            "[10, 30]\n",
            "Enter options:\n",
            " 1.Push \n",
            " 2.pop \n",
            " 3. exit \n",
            " : 3\n"
          ]
        }
      ],
      "source": [
        "stack = []\r\n",
        "\r\n",
        "def push():\r\n",
        "  val = eval(input(\"Enter an item to push:\" ))\r\n",
        "  stack.append(val)\r\n",
        "  print(stack)\r\n",
        "\r\n",
        "def pop_val():\r\n",
        "  if not stack:\r\n",
        "    print(\"its empty \")\r\n",
        "  else:\r\n",
        "    p = stack.pop()\r\n",
        "    print(p, \"removed\")\r\n",
        "    print(stack)\r\n",
        "\r\n",
        "while True:\r\n",
        "  a = input(\"Enter options:\\n 1.Push \\n 2.pop \\n 3.exit \\n : \" )\r\n",
        "  if a == \"1\":\r\n",
        "    push()\r\n",
        "  elif a==\"2\":\r\n",
        "    pop_val()\r\n",
        "  elif a==\"3\":\r\n",
        "    break\r\n",
        "  else:\r\n",
        "    print(\"Enter a valid number\")"
      ]
    },
    {
      "cell_type": "code",
      "execution_count": 7,
      "metadata": {
        "id": "lF1oMA2-HDKE"
      },
      "outputs": [],
      "source": [
        "import collections "
      ]
    },
    {
      "cell_type": "code",
      "execution_count": 8,
      "metadata": {
        "id": "x1kw8TrZHy1H"
      },
      "outputs": [],
      "source": [
        "stack = collections.deque()"
      ]
    },
    {
      "cell_type": "code",
      "execution_count": 10,
      "metadata": {
        "colab": {
          "base_uri": "https://localhost:8080/"
        },
        "id": "ZZi2SMRDH8wF",
        "outputId": "41b412a1-95f3-436f-b5ba-47e348b0784e"
      },
      "outputs": [
        {
          "data": {
            "text/plain": [
              "deque([10, 20, 30, 10, 20, 30])"
            ]
          },
          "execution_count": 10,
          "metadata": {
            "tags": []
          },
          "output_type": "execute_result"
        }
      ],
      "source": [
        "stack.append(10)\n",
        "stack.append(20)\n",
        "stack.append(30)\n",
        "stack"
      ]
    },
    {
      "cell_type": "code",
      "execution_count": 11,
      "metadata": {
        "colab": {
          "base_uri": "https://localhost:8080/"
        },
        "id": "rZmNHSsCIIL6",
        "outputId": "ac203b1d-53fe-44c1-aebe-34493596ac44"
      },
      "outputs": [
        {
          "data": {
            "text/plain": [
              "20"
            ]
          },
          "execution_count": 11,
          "metadata": {
            "tags": []
          },
          "output_type": "execute_result"
        }
      ],
      "source": [
        "stack.pop()\n",
        "stack.pop()\n"
      ]
    },
    {
      "cell_type": "code",
      "execution_count": 12,
      "metadata": {
        "colab": {
          "base_uri": "https://localhost:8080/"
        },
        "id": "ImhfVYRfIO52",
        "outputId": "6b7a621b-7b86-4e47-aed5-2ae68306fd65"
      },
      "outputs": [
        {
          "data": {
            "text/plain": [
              "deque([10, 20, 30, 10])"
            ]
          },
          "execution_count": 12,
          "metadata": {
            "tags": []
          },
          "output_type": "execute_result"
        }
      ],
      "source": [
        "stack"
      ]
    },
    {
      "cell_type": "code",
      "execution_count": 14,
      "metadata": {
        "id": "_0RJ1X1xIQvF"
      },
      "outputs": [],
      "source": [
        "import queue"
      ]
    },
    {
      "cell_type": "code",
      "execution_count": 15,
      "metadata": {
        "id": "LgjObWkhJF5l"
      },
      "outputs": [],
      "source": [
        "stack = queue.LifoQueue()\n"
      ]
    },
    {
      "cell_type": "code",
      "execution_count": 20,
      "metadata": {
        "id": "qjeUgtT1JTNu"
      },
      "outputs": [],
      "source": [
        "stack.put(10)\n",
        "stack.put(20)\n",
        "stack.put(30)\n",
        "stack.put(40)\n"
      ]
    },
    {
      "cell_type": "code",
      "execution_count": 22,
      "metadata": {
        "colab": {
          "base_uri": "https://localhost:8080/"
        },
        "id": "ayN7HAfAJsdt",
        "outputId": "b0d9437e-99e0-46aa-a76e-884fa9bb40d1"
      },
      "outputs": [
        {
          "data": {
            "text/plain": [
              "30"
            ]
          },
          "execution_count": 22,
          "metadata": {
            "tags": []
          },
          "output_type": "execute_result"
        }
      ],
      "source": [
        "stack.get()\n",
        "stack.get()\n",
        "stack.get()"
      ]
    },
    {
      "cell_type": "code",
      "execution_count": null,
      "metadata": {
        "id": "_UdtZXzvJ_AF"
      },
      "outputs": [],
      "source": []
    }
  ],
  "metadata": {
    "colab": {
      "authorship_tag": "ABX9TyNJJfxYqMSt0XCAzotmvJSp",
      "include_colab_link": true,
      "name": "Stacks.ipynb",
      "provenance": []
    },
    "interpreter": {
      "hash": "90e44440a34ddfc992207f75b9d838a7dd918318366dea1282a965f32ef00647"
    },
    "kernelspec": {
      "display_name": "Python 3.9.5 64-bit ('pythonProject': conda)",
      "name": "python3"
    },
    "language_info": {
      "name": "python",
      "version": ""
    }
  },
  "nbformat": 4,
  "nbformat_minor": 0
}